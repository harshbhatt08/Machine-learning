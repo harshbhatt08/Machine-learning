{
 "cells": [
  {
   "cell_type": "markdown",
   "id": "fb66c17a-a2ef-4b0f-884c-e93c1e160284",
   "metadata": {},
   "source": [
    "# Numpy"
   ]
  },
  {
   "cell_type": "markdown",
   "id": "86c9dd1a-2159-4850-be01-ca118a4480c3",
   "metadata": {},
   "source": [
    "To access the library"
   ]
  },
  {
   "cell_type": "code",
   "execution_count": 2,
   "id": "c877e9f8-541a-4e53-b799-292ccbcc920d",
   "metadata": {},
   "outputs": [],
   "source": [
    "import numpy as np"
   ]
  },
  {
   "cell_type": "markdown",
   "id": "57bbbd12-1af2-471e-9a93-f961d9a7e9f0",
   "metadata": {},
   "source": [
    "### Only 1 data type"
   ]
  },
  {
   "cell_type": "code",
   "execution_count": 3,
   "id": "ad612186-517e-4220-b681-1528a9806819",
   "metadata": {},
   "outputs": [
    {
     "data": {
      "text/plain": [
       "array([1, 2, 3])"
      ]
     },
     "execution_count": 3,
     "metadata": {},
     "output_type": "execute_result"
    }
   ],
   "source": [
    "# ndarray- n dimentional array\n",
    "a1 = np.array([1,2,3])\n",
    "a1"
   ]
  },
  {
   "cell_type": "code",
   "execution_count": 4,
   "id": "e254ebe4-a23a-4ee1-aa5c-70c8f87bcab4",
   "metadata": {},
   "outputs": [
    {
     "data": {
      "text/plain": [
       "numpy.ndarray"
      ]
     },
     "execution_count": 4,
     "metadata": {},
     "output_type": "execute_result"
    }
   ],
   "source": [
    "type(a1)"
   ]
  },
  {
   "cell_type": "code",
   "execution_count": 5,
   "id": "254216a5-0f53-4560-8b23-916759d140e2",
   "metadata": {},
   "outputs": [
    {
     "data": {
      "text/plain": [
       "array([[1, 2, 3],\n",
       "       [4, 5, 6]])"
      ]
     },
     "execution_count": 5,
     "metadata": {},
     "output_type": "execute_result"
    }
   ],
   "source": [
    "a2 = np.array([[1,2,3],[4,5,6]])\n",
    "a2\n"
   ]
  },
  {
   "cell_type": "code",
   "execution_count": 6,
   "id": "895a546e-eda0-4dfb-a12f-32cd3f32c3d0",
   "metadata": {},
   "outputs": [
    {
     "data": {
      "text/plain": [
       "array([[1, 2, 3],\n",
       "       [4, 5, 6],\n",
       "       [7, 8, 9]])"
      ]
     },
     "execution_count": 6,
     "metadata": {},
     "output_type": "execute_result"
    }
   ],
   "source": [
    "a3 = np.array([[1,2,3],[4,5,6], [7,8,9]])\n",
    "\n",
    "a3"
   ]
  },
  {
   "cell_type": "markdown",
   "id": "ee33b736-5ef9-406b-8fbe-e502b6416d39",
   "metadata": {},
   "source": [
    "## To calculate dimention\n",
    "`ndim` is used"
   ]
  },
  {
   "cell_type": "code",
   "execution_count": 7,
   "id": "a99f977f-c148-4dce-8a26-472e47c81811",
   "metadata": {},
   "outputs": [
    {
     "data": {
      "text/plain": [
       "(1, 2, 2)"
      ]
     },
     "execution_count": 7,
     "metadata": {},
     "output_type": "execute_result"
    }
   ],
   "source": [
    "a1.ndim, a2.ndim, a3.ndim\n",
    "#gives dimention of all 3 ndarray using `,` as seperator"
   ]
  },
  {
   "cell_type": "code",
   "execution_count": 8,
   "id": "15391fa3-e475-41b8-9b06-7177a868b07f",
   "metadata": {},
   "outputs": [
    {
     "data": {
      "text/plain": [
       "numpy.ndarray"
      ]
     },
     "execution_count": 8,
     "metadata": {},
     "output_type": "execute_result"
    }
   ],
   "source": [
    "type(a1)\n"
   ]
  },
  {
   "cell_type": "code",
   "execution_count": 9,
   "id": "ce964557-5d72-4bf9-b9c9-5a97067d03b7",
   "metadata": {},
   "outputs": [
    {
     "data": {
      "text/plain": [
       "dtype('int64')"
      ]
     },
     "execution_count": 9,
     "metadata": {},
     "output_type": "execute_result"
    }
   ],
   "source": [
    "a1.dtype"
   ]
  },
  {
   "cell_type": "code",
   "execution_count": 10,
   "id": "3a09e260-9f8f-48ca-bb18-8927581fd07c",
   "metadata": {},
   "outputs": [
    {
     "data": {
      "text/plain": [
       "(3, 6, 9)"
      ]
     },
     "execution_count": 10,
     "metadata": {},
     "output_type": "execute_result"
    }
   ],
   "source": [
    "# Size of that total ndarray\n",
    "a1.size, a2.size, a3.size"
   ]
  },
  {
   "cell_type": "code",
   "execution_count": 11,
   "id": "448ce082-098a-4644-bf52-b8fa38929e65",
   "metadata": {},
   "outputs": [],
   "source": [
    "import pandas as pd"
   ]
  },
  {
   "cell_type": "code",
   "execution_count": 12,
   "id": "2d7b1249-90fd-48c0-be32-c2b4d694d301",
   "metadata": {},
   "outputs": [
    {
     "data": {
      "text/html": [
       "<div>\n",
       "<style scoped>\n",
       "    .dataframe tbody tr th:only-of-type {\n",
       "        vertical-align: middle;\n",
       "    }\n",
       "\n",
       "    .dataframe tbody tr th {\n",
       "        vertical-align: top;\n",
       "    }\n",
       "\n",
       "    .dataframe thead th {\n",
       "        text-align: right;\n",
       "    }\n",
       "</style>\n",
       "<table border=\"1\" class=\"dataframe\">\n",
       "  <thead>\n",
       "    <tr style=\"text-align: right;\">\n",
       "      <th></th>\n",
       "      <th>0</th>\n",
       "      <th>1</th>\n",
       "      <th>2</th>\n",
       "    </tr>\n",
       "  </thead>\n",
       "  <tbody>\n",
       "    <tr>\n",
       "      <th>0</th>\n",
       "      <td>1</td>\n",
       "      <td>2</td>\n",
       "      <td>3</td>\n",
       "    </tr>\n",
       "    <tr>\n",
       "      <th>1</th>\n",
       "      <td>4</td>\n",
       "      <td>5</td>\n",
       "      <td>6</td>\n",
       "    </tr>\n",
       "  </tbody>\n",
       "</table>\n",
       "</div>"
      ],
      "text/plain": [
       "   0  1  2\n",
       "0  1  2  3\n",
       "1  4  5  6"
      ]
     },
     "execution_count": 12,
     "metadata": {},
     "output_type": "execute_result"
    }
   ],
   "source": [
    "# creating a df using ndarray\n",
    "df = pd.DataFrame(a2)\n",
    "df"
   ]
  },
  {
   "cell_type": "markdown",
   "id": "a4dfd58c-70ce-4398-9070-a7e52dec0c8c",
   "metadata": {},
   "source": [
    "## 2. Creating arrays"
   ]
  },
  {
   "cell_type": "code",
   "execution_count": 13,
   "id": "33b58d38-8fbe-4ace-9ffc-4582fc23d365",
   "metadata": {},
   "outputs": [
    {
     "data": {
      "text/plain": [
       "array([[1, 1, 1],\n",
       "       [1, 1, 1]])"
      ]
     },
     "execution_count": 13,
     "metadata": {},
     "output_type": "execute_result"
    }
   ],
   "source": [
    "ones = np.ones((2,3), dtype= int )\n",
    "ones"
   ]
  },
  {
   "cell_type": "code",
   "execution_count": 14,
   "id": "454ba956-bb5c-40c1-95fa-f484978ea150",
   "metadata": {},
   "outputs": [],
   "source": [
    "zeros = np.zeros((2,3))"
   ]
  },
  {
   "cell_type": "code",
   "execution_count": 15,
   "id": "e33790d9-5748-43d0-8e4e-1c6cb8f7a3da",
   "metadata": {},
   "outputs": [
    {
     "data": {
      "text/plain": [
       "array([0, 2, 4, 6, 8])"
      ]
     },
     "execution_count": 15,
     "metadata": {},
     "output_type": "execute_result"
    }
   ],
   "source": [
    "range_array = np.arange(0,10,2)\n",
    "range_array "
   ]
  },
  {
   "cell_type": "code",
   "execution_count": 16,
   "id": "0e9f0b5c-0903-4ced-a015-8b462ebcb570",
   "metadata": {},
   "outputs": [
    {
     "data": {
      "text/plain": [
       "array([[3, 0, 7, 7, 9],\n",
       "       [2, 1, 8, 4, 0],\n",
       "       [7, 2, 2, 7, 2]])"
      ]
     },
     "execution_count": 16,
     "metadata": {},
     "output_type": "execute_result"
    }
   ],
   "source": [
    "random_array = np.random.randint(0,10, size= (3,5))\n",
    "random_array"
   ]
  },
  {
   "cell_type": "code",
   "execution_count": 17,
   "id": "7b21c4e0-9bb8-491c-9fbb-554796659014",
   "metadata": {},
   "outputs": [
    {
     "data": {
      "text/plain": [
       "array([[0.47354827, 0.41732388, 0.59990218],\n",
       "       [0.38497717, 0.96434041, 0.82808921],\n",
       "       [0.86325411, 0.33534401, 0.16834888],\n",
       "       [0.05938216, 0.33848002, 0.69513873],\n",
       "       [0.6203884 , 0.99951334, 0.60344491]])"
      ]
     },
     "execution_count": 17,
     "metadata": {},
     "output_type": "execute_result"
    }
   ],
   "source": [
    "random_array2 = np.random.random((5,3))\n",
    "random_array2"
   ]
  },
  {
   "cell_type": "code",
   "execution_count": 18,
   "id": "676e39db-4cd9-4cd7-9004-9f8df7128075",
   "metadata": {},
   "outputs": [
    {
     "data": {
      "text/plain": [
       "array([[0.96405606, 0.55043968, 0.0406513 ],\n",
       "       [0.48781163, 0.70537491, 0.54395139],\n",
       "       [0.86181916, 0.70040004, 0.00232398],\n",
       "       [0.53183827, 0.74940013, 0.82153522],\n",
       "       [0.80191117, 0.0197356 , 0.91031655]])"
      ]
     },
     "execution_count": 18,
     "metadata": {},
     "output_type": "execute_result"
    }
   ],
   "source": [
    "random_array3 = np.random.rand(5,3)\n",
    "random_array3"
   ]
  },
  {
   "cell_type": "code",
   "execution_count": 19,
   "id": "6c69ed1f-caac-460c-9a13-af65963045ed",
   "metadata": {},
   "outputs": [
    {
     "data": {
      "text/plain": [
       "array([[7, 0, 0],\n",
       "       [5, 6, 9],\n",
       "       [3, 5, 7],\n",
       "       [3, 7, 9],\n",
       "       [6, 9, 8]])"
      ]
     },
     "execution_count": 19,
     "metadata": {},
     "output_type": "execute_result"
    }
   ],
   "source": [
    "random_array4 = np.random.randint(10,size=(5,3))\n",
    "random_array4"
   ]
  },
  {
   "cell_type": "code",
   "execution_count": 20,
   "id": "671a2384-b0bb-43dc-b60c-1336f7533c3d",
   "metadata": {},
   "outputs": [
    {
     "data": {
      "text/plain": [
       "(5, 3)"
      ]
     },
     "execution_count": 20,
     "metadata": {},
     "output_type": "execute_result"
    }
   ],
   "source": [
    "random_array4.shape"
   ]
  },
  {
   "cell_type": "markdown",
   "id": "31e3199b-e868-4170-b46b-34a1b9e6b57a",
   "metadata": {},
   "source": [
    "### When sharing notebook with someone, to get the same random value we use `seed`"
   ]
  },
  {
   "cell_type": "code",
   "execution_count": 21,
   "id": "c469d6e7-f95e-4c6c-9ca5-35c3650ebc25",
   "metadata": {},
   "outputs": [],
   "source": [
    "# Pseudo-random numbers\n",
    "np.random.seed(seed= 2)"
   ]
  },
  {
   "cell_type": "code",
   "execution_count": 22,
   "id": "ee7b45a3-1c08-46df-b3b5-ee12fe3ebaa5",
   "metadata": {},
   "outputs": [
    {
     "data": {
      "text/plain": [
       "array([[8, 8, 6],\n",
       "       [2, 8, 7],\n",
       "       [2, 1, 5],\n",
       "       [4, 4, 5],\n",
       "       [7, 3, 6]])"
      ]
     },
     "execution_count": 22,
     "metadata": {},
     "output_type": "execute_result"
    }
   ],
   "source": [
    "np.random.seed(seed= 2)\n",
    "random_array5 = np.random.randint(10,size=(5,3))\n",
    "random_array5"
   ]
  },
  {
   "cell_type": "markdown",
   "id": "ce00fd3e-b4f2-4ba5-a17b-a299ac30e888",
   "metadata": {},
   "source": [
    "    - Using Unique number "
   ]
  },
  {
   "cell_type": "code",
   "execution_count": 23,
   "id": "78d5544a-154a-4e80-81b2-4a54f1fa7fb0",
   "metadata": {},
   "outputs": [
    {
     "data": {
      "text/plain": [
       "array([1, 2, 3, 4, 5, 6, 7, 8])"
      ]
     },
     "execution_count": 23,
     "metadata": {},
     "output_type": "execute_result"
    }
   ],
   "source": [
    "np.unique(random_array5)"
   ]
  },
  {
   "cell_type": "code",
   "execution_count": 24,
   "id": "6f3d62dc-116a-4595-9ae6-c37b0ee0f2f6",
   "metadata": {},
   "outputs": [
    {
     "data": {
      "text/plain": [
       "array([1, 2, 3])"
      ]
     },
     "execution_count": 24,
     "metadata": {},
     "output_type": "execute_result"
    }
   ],
   "source": [
    "a1"
   ]
  },
  {
   "cell_type": "code",
   "execution_count": 25,
   "id": "be6bddfe-ef4a-480a-8406-2a16f3bc3bbf",
   "metadata": {},
   "outputs": [
    {
     "data": {
      "text/plain": [
       "1"
      ]
     },
     "execution_count": 25,
     "metadata": {},
     "output_type": "execute_result"
    }
   ],
   "source": [
    "a1[0]"
   ]
  },
  {
   "cell_type": "code",
   "execution_count": 26,
   "id": "298b96cc-e6d9-4e7e-9637-0e96937e4b91",
   "metadata": {},
   "outputs": [
    {
     "data": {
      "text/plain": [
       "array([[1, 2, 3],\n",
       "       [4, 5, 6]])"
      ]
     },
     "execution_count": 26,
     "metadata": {},
     "output_type": "execute_result"
    }
   ],
   "source": [
    "a2"
   ]
  },
  {
   "cell_type": "code",
   "execution_count": 27,
   "id": "358d0b3e-32bc-471e-a482-0eb814a55868",
   "metadata": {},
   "outputs": [
    {
     "data": {
      "text/plain": [
       "array([1, 2, 3])"
      ]
     },
     "execution_count": 27,
     "metadata": {},
     "output_type": "execute_result"
    }
   ],
   "source": [
    "a2[0]"
   ]
  },
  {
   "cell_type": "code",
   "execution_count": 28,
   "id": "51238e92-8474-4680-8389-e12fd5d8743a",
   "metadata": {},
   "outputs": [
    {
     "data": {
      "text/plain": [
       "array([[1, 2, 3],\n",
       "       [4, 5, 6],\n",
       "       [7, 8, 9]])"
      ]
     },
     "execution_count": 28,
     "metadata": {},
     "output_type": "execute_result"
    }
   ],
   "source": [
    "a3"
   ]
  },
  {
   "cell_type": "code",
   "execution_count": 29,
   "id": "a75ffe2e-e556-4f26-a65d-8bff5b0ad5d6",
   "metadata": {},
   "outputs": [
    {
     "data": {
      "text/plain": [
       "array([1, 2, 3])"
      ]
     },
     "execution_count": 29,
     "metadata": {},
     "output_type": "execute_result"
    }
   ],
   "source": [
    "a3[0]"
   ]
  },
  {
   "cell_type": "code",
   "execution_count": 30,
   "id": "51d5f7b5-e91c-4f77-9989-976b813b589a",
   "metadata": {},
   "outputs": [],
   "source": [
    "a4 = np.array([[[1,2,3],[4,5,6],[7,8,9]],[[10,11,12],[13,14,15], [16,17,18]]])"
   ]
  },
  {
   "cell_type": "code",
   "execution_count": 31,
   "id": "962e2345-6d12-443a-ae67-5d900e423414",
   "metadata": {},
   "outputs": [
    {
     "data": {
      "text/plain": [
       "array([[[ 1,  2,  3],\n",
       "        [ 4,  5,  6],\n",
       "        [ 7,  8,  9]],\n",
       "\n",
       "       [[10, 11, 12],\n",
       "        [13, 14, 15],\n",
       "        [16, 17, 18]]])"
      ]
     },
     "execution_count": 31,
     "metadata": {},
     "output_type": "execute_result"
    }
   ],
   "source": [
    "a4"
   ]
  },
  {
   "cell_type": "code",
   "execution_count": 32,
   "id": "d5efb1cb-8f0b-48cd-b3fd-32050dfa9f1a",
   "metadata": {},
   "outputs": [
    {
     "data": {
      "text/plain": [
       "(2, 3, 3)"
      ]
     },
     "execution_count": 32,
     "metadata": {},
     "output_type": "execute_result"
    }
   ],
   "source": [
    "a4.shape"
   ]
  },
  {
   "cell_type": "code",
   "execution_count": 50,
   "id": "c8f47c39-ad3a-4d0b-a612-80e450693ea8",
   "metadata": {},
   "outputs": [
    {
     "data": {
      "text/plain": [
       "array([ 8, 17])"
      ]
     },
     "execution_count": 50,
     "metadata": {},
     "output_type": "execute_result"
    }
   ],
   "source": [
    "a4[:2,2,1]"
   ]
  },
  {
   "cell_type": "code",
   "execution_count": 37,
   "id": "f9bc5584-7d6f-415a-88f0-5a0bf50e9488",
   "metadata": {},
   "outputs": [
    {
     "data": {
      "image/png": "[encoded data removed]",
      "text/plain": [
       "<Figure size 800x600 with 2 Axes>"
      ]
     },
     "metadata": {},
     "output_type": "display_data"
    }
   ],
   "source": [
    "import seaborn as sns\n",
    "import matplotlib.pyplot as plt\n",
    "\n",
    "# Choose the first sub-array along the first axis\n",
    "a4_slice = a4[0]\n",
    "\n",
    "# Create a heatmap to visualize the selected slice\n",
    "plt.figure(figsize=(8, 6))\n",
    "sns.heatmap(a4_slice, annot=True, cmap='viridis', fmt='d', cbar=True)\n",
    "plt.title('Array a4 - First Sub-array')\n",
    "plt.xlabel('Column')\n",
    "plt.ylabel('Row')\n",
    "plt.show()\n"
   ]
  },
  {
   "cell_type": "code",
   "execution_count": 51,
   "id": "c783c8e9-f5f0-409e-a0a0-bd8d18d59d67",
   "metadata": {},
   "outputs": [
    {
     "data": {
      "text/plain": [
       "array([[[3, 2, 9, 8, 3],\n",
       "        [9, 7, 3, 8, 7],\n",
       "        [9, 1, 0, 5, 9],\n",
       "        [4, 5, 2, 6, 3]],\n",
       "\n",
       "       [[4, 8, 3, 6, 3],\n",
       "        [0, 1, 0, 4, 9],\n",
       "        [7, 2, 9, 9, 0],\n",
       "        [8, 1, 9, 4, 3]],\n",
       "\n",
       "       [[1, 9, 6, 9, 0],\n",
       "        [7, 6, 9, 9, 1],\n",
       "        [4, 9, 9, 4, 7],\n",
       "        [9, 7, 9, 1, 0]]])"
      ]
     },
     "execution_count": 51,
     "metadata": {},
     "output_type": "execute_result"
    }
   ],
   "source": [
    "# Start from the end of size, (time*, row,column) where * is n numbes and n times.\n",
    "# np.random.randint(Take_random_value_under, size= (dimention,row,column)\n",
    "a6 = np.random.randint(10, size= (3,4,5))\n",
    "a6"
   ]
  },
  {
   "cell_type": "code",
   "execution_count": 56,
   "id": "6236ed16-7e0d-4007-9ec7-012873409b28",
   "metadata": {},
   "outputs": [
    {
     "data": {
      "text/plain": [
       "array([[6, 3],\n",
       "       [4, 3]])"
      ]
     },
     "execution_count": 56,
     "metadata": {},
     "output_type": "execute_result"
    }
   ],
   "source": [
    "a6[0:2,3,3:]"
   ]
  },
  {
   "cell_type": "code",
   "execution_count": 58,
   "id": "1e835d73-4b17-443d-9b3a-30e264889382",
   "metadata": {},
   "outputs": [
    {
     "data": {
      "text/plain": [
       "((3, 4, 5), 3)"
      ]
     },
     "execution_count": 58,
     "metadata": {},
     "output_type": "execute_result"
    }
   ],
   "source": [
    "a6.shape, a6.ndim"
   ]
  },
  {
   "cell_type": "markdown",
   "id": "7135f22b-479f-4a1f-9653-72c1a94643b1",
   "metadata": {},
   "source": [
    "# Manipulate & compare array"
   ]
  },
  {
   "cell_type": "markdown",
   "id": "133163ca-1d88-4e2f-87d3-30917bf3f049",
   "metadata": {},
   "source": [
    "### Arithmatic"
   ]
  },
  {
   "cell_type": "code",
   "execution_count": 59,
   "id": "fa36b7e9-81b1-4994-b32a-c97ec4a2020d",
   "metadata": {},
   "outputs": [
    {
     "data": {
      "text/plain": [
       "array([1, 2, 3])"
      ]
     },
     "execution_count": 59,
     "metadata": {},
     "output_type": "execute_result"
    }
   ],
   "source": [
    "a1"
   ]
  },
  {
   "cell_type": "code",
   "execution_count": 65,
   "id": "e1e61f7f-78f4-4fc2-9425-7d1b0abcbcab",
   "metadata": {},
   "outputs": [
    {
     "data": {
      "text/plain": [
       "array([1., 1., 1.])"
      ]
     },
     "execution_count": 65,
     "metadata": {},
     "output_type": "execute_result"
    }
   ],
   "source": [
    "ones = np.ones(3)\n",
    "ones"
   ]
  },
  {
   "cell_type": "code",
   "execution_count": 66,
   "id": "c88a1716-17ae-4ed4-95d1-f066fdd96739",
   "metadata": {},
   "outputs": [
    {
     "data": {
      "text/plain": [
       "array([2., 3., 4.])"
      ]
     },
     "execution_count": 66,
     "metadata": {},
     "output_type": "execute_result"
    }
   ],
   "source": [
    "a1 + ones"
   ]
  },
  {
   "cell_type": "code",
   "execution_count": 67,
   "id": "00965d0a-4322-42d3-9a2e-e52d819a3368",
   "metadata": {},
   "outputs": [
    {
     "data": {
      "text/plain": [
       "array([0., 1., 2.])"
      ]
     },
     "execution_count": 67,
     "metadata": {},
     "output_type": "execute_result"
    }
   ],
   "source": [
    "a1 -ones"
   ]
  },
  {
   "cell_type": "code",
   "execution_count": 68,
   "id": "25e5251f-db2d-4c70-8942-ceef68c417b9",
   "metadata": {},
   "outputs": [
    {
     "data": {
      "text/plain": [
       "array([1., 2., 3.])"
      ]
     },
     "execution_count": 68,
     "metadata": {},
     "output_type": "execute_result"
    }
   ],
   "source": [
    "a1*ones"
   ]
  },
  {
   "cell_type": "code",
   "execution_count": 72,
   "id": "3d949659-e55b-4bee-b205-b4bef93a28af",
   "metadata": {},
   "outputs": [
    {
     "data": {
      "text/plain": [
       "array([1, 2, 3])"
      ]
     },
     "execution_count": 72,
     "metadata": {},
     "output_type": "execute_result"
    }
   ],
   "source": [
    "a1"
   ]
  },
  {
   "cell_type": "code",
   "execution_count": 69,
   "id": "fe268200-1099-4146-815f-514a04037c50",
   "metadata": {},
   "outputs": [
    {
     "data": {
      "text/plain": [
       "array([[1, 2, 3],\n",
       "       [4, 5, 6]])"
      ]
     },
     "execution_count": 69,
     "metadata": {},
     "output_type": "execute_result"
    }
   ],
   "source": [
    "a2"
   ]
  },
  {
   "cell_type": "code",
   "execution_count": 71,
   "id": "a6a96596-99e9-4473-9356-601fc4b2d391",
   "metadata": {},
   "outputs": [
    {
     "data": {
      "text/plain": [
       "array([[ 1,  4,  9],\n",
       "       [ 4, 10, 18]])"
      ]
     },
     "execution_count": 71,
     "metadata": {},
     "output_type": "execute_result"
    }
   ],
   "source": [
    "a1*a2"
   ]
  },
  {
   "cell_type": "markdown",
   "id": "a64efcec-dfe3-43a4-ae8f-f91c60d45b66",
   "metadata": {},
   "source": [
    "### Can use numpy or directly do it\n",
    "like:\n",
    "np.add(a1 +a2) OR a1+a2"
   ]
  },
  {
   "cell_type": "markdown",
   "id": "cd70f68e-ad83-448c-ba43-a840968657e1",
   "metadata": {},
   "source": [
    "## Aggregation\n",
    "same operation on no. of things"
   ]
  },
  {
   "cell_type": "code",
   "execution_count": 74,
   "id": "76c930da-51d9-4f18-9905-ff0facdacbb2",
   "metadata": {},
   "outputs": [
    {
     "data": {
      "text/plain": [
       "list"
      ]
     },
     "execution_count": 74,
     "metadata": {},
     "output_type": "execute_result"
    }
   ],
   "source": [
    "l = [1,2,3]\n",
    "type(l)"
   ]
  },
  {
   "cell_type": "code",
   "execution_count": 75,
   "id": "09b3e073-d7b5-4abb-a7a2-72d43b41a6ae",
   "metadata": {},
   "outputs": [
    {
     "data": {
      "text/plain": [
       "6"
      ]
     },
     "execution_count": 75,
     "metadata": {},
     "output_type": "execute_result"
    }
   ],
   "source": [
    "sum(l)"
   ]
  },
  {
   "cell_type": "code",
   "execution_count": 76,
   "id": "7cd7a8c8-8793-4063-a348-c3109d77f472",
   "metadata": {},
   "outputs": [
    {
     "data": {
      "text/plain": [
       "6"
      ]
     },
     "execution_count": 76,
     "metadata": {},
     "output_type": "execute_result"
    }
   ],
   "source": [
    "np.sum(l)"
   ]
  },
  {
   "cell_type": "code",
   "execution_count": 81,
   "id": "4c7a8470-89c6-4ea7-9af0-4d0f6ffde71a",
   "metadata": {},
   "outputs": [],
   "source": [
    "massive_array = np.random.random(100000)"
   ]
  },
  {
   "cell_type": "code",
   "execution_count": 82,
   "id": "eedffb70-70e7-485b-bca1-0380eacb1bb9",
   "metadata": {},
   "outputs": [
    {
     "data": {
      "text/plain": [
       "100000"
      ]
     },
     "execution_count": 82,
     "metadata": {},
     "output_type": "execute_result"
    }
   ],
   "source": [
    "massive_array.size"
   ]
  },
  {
   "cell_type": "code",
   "execution_count": 83,
   "id": "19bcceb6-7222-4d30-8906-da1651761cef",
   "metadata": {},
   "outputs": [
    {
     "data": {
      "text/plain": [
       "array([0.39411019, 0.54357885, 0.10935361, ..., 0.74992559, 0.78430559,\n",
       "       0.01600526])"
      ]
     },
     "execution_count": 83,
     "metadata": {},
     "output_type": "execute_result"
    }
   ],
   "source": [
    "massive_array"
   ]
  },
  {
   "cell_type": "markdown",
   "id": "b4b9ad49-653b-414b-8b42-61bbcd949c27",
   "metadata": {},
   "source": [
    "## Anything starts with `%` is an inbuilt special function  "
   ]
  },
  {
   "cell_type": "code",
   "execution_count": 85,
   "id": "9fbe7fbf-e5a1-4570-a0bc-0b94ca8e51d6",
   "metadata": {},
   "outputs": [
    {
     "name": "stdout",
     "output_type": "stream",
     "text": [
      "8.71 ms ± 232 µs per loop (mean ± std. dev. of 7 runs, 100 loops each)\n",
      "27.9 µs ± 1.02 µs per loop (mean ± std. dev. of 7 runs, 10,000 loops each)\n"
     ]
    }
   ],
   "source": [
    "%timeit sum(massive_array)\n",
    "%timeit np.sum(massive_array)"
   ]
  },
  {
   "cell_type": "code",
   "execution_count": 86,
   "id": "15a179be-6c2f-4a89-84bb-2f225fc6d232",
   "metadata": {},
   "outputs": [
    {
     "data": {
      "text/plain": [
       "0.49998733774188076"
      ]
     },
     "execution_count": 86,
     "metadata": {},
     "output_type": "execute_result"
    }
   ],
   "source": [
    "np.mean(massive_array)"
   ]
  },
  {
   "cell_type": "code",
   "execution_count": 87,
   "id": "f6335327-bc89-4901-b640-afc1ada0e17b",
   "metadata": {},
   "outputs": [
    {
     "data": {
      "text/plain": [
       "0.9999787515925456"
      ]
     },
     "execution_count": 87,
     "metadata": {},
     "output_type": "execute_result"
    }
   ],
   "source": [
    "np.max(massive_array)"
   ]
  },
  {
   "cell_type": "code",
   "execution_count": 88,
   "id": "a18179ed-d182-4093-a1fb-684c99b429e4",
   "metadata": {},
   "outputs": [
    {
     "data": {
      "text/plain": [
       "1.475970020647921e-06"
      ]
     },
     "execution_count": 88,
     "metadata": {},
     "output_type": "execute_result"
    }
   ],
   "source": [
    "np.min(massive_array)"
   ]
  },
  {
   "cell_type": "markdown",
   "id": "4996ddf8-b958-4515-8285-9384a0740cac",
   "metadata": {},
   "source": [
    "# Standard Deviation\n",
    "    - A measure of how spread out a group of numbers is from the mean\n"
   ]
  },
  {
   "cell_type": "code",
   "execution_count": 89,
   "id": "ab108145-cfc2-4a7f-a59b-f5283398fe1b",
   "metadata": {},
   "outputs": [
    {
     "data": {
      "text/plain": [
       "0.28944500658306516"
      ]
     },
     "execution_count": 89,
     "metadata": {},
     "output_type": "execute_result"
    }
   ],
   "source": [
    "np.std(massive_array)"
   ]
  },
  {
   "cell_type": "markdown",
   "id": "34fc58ac-6e06-4ce4-a57e-f1971f1575be",
   "metadata": {},
   "source": [
    "# Varience \n",
    "    measure of the average degree to which each number is different to the mean.\n",
    "#### Higher Varience \n",
    "    - wider range of numbers\n",
    "#### Lower Varience \n",
    "    - lower range of numbers "
   ]
  },
  {
   "cell_type": "code",
   "execution_count": 90,
   "id": "96b19ca9-f073-4184-bdf6-6b6cf30ef625",
   "metadata": {},
   "outputs": [
    {
     "data": {
      "text/plain": [
       "0.08377841183587063"
      ]
     },
     "execution_count": 90,
     "metadata": {},
     "output_type": "execute_result"
    }
   ],
   "source": [
    "np.var(massive_array)"
   ]
  },
  {
   "cell_type": "code",
   "execution_count": 91,
   "id": "09b45ad2-77ec-4e5d-98f2-fdc3752c2cdd",
   "metadata": {},
   "outputs": [
    {
     "data": {
      "text/plain": [
       "0.28944500658306516"
      ]
     },
     "execution_count": 91,
     "metadata": {},
     "output_type": "execute_result"
    }
   ],
   "source": [
    "# Standard devuiation = sq.root of varience\n",
    "np.sqrt(np.var(massive_array))"
   ]
  },
  {
   "cell_type": "code",
   "execution_count": null,
   "id": "40d1ad7a-f026-44a0-95a4-49e72b7dd361",
   "metadata": {},
   "outputs": [],
   "source": []
  }
 ],
 "metadata": {
  "kernelspec": {
   "display_name": "Python 3 (ipykernel)",
   "language": "python",
   "name": "python3"
  },
  "language_info": {
   "codemirror_mode": {
    "name": "ipython",
    "version": 3
   },
   "file_extension": ".py",
   "mimetype": "text/x-python",
   "name": "python",
   "nbconvert_exporter": "python",
   "pygments_lexer": "ipython3",
   "version": "3.12.2"
  }
 },
 "nbformat": 4,
 "nbformat_minor": 5
}
