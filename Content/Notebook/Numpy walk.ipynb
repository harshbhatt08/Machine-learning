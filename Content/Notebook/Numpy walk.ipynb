{
 "cells": [
  {
   "cell_type": "markdown",
   "id": "fb66c17a-a2ef-4b0f-884c-e93c1e160284",
   "metadata": {},
   "source": [
    "# Numpy"
   ]
  },
  {
   "cell_type": "markdown",
   "id": "86c9dd1a-2159-4850-be01-ca118a4480c3",
   "metadata": {},
   "source": [
    "To access the library"
   ]
  },
  {
   "cell_type": "code",
   "execution_count": 132,
   "id": "c877e9f8-541a-4e53-b799-292ccbcc920d",
   "metadata": {},
   "outputs": [],
   "source": [
    "import numpy as np"
   ]
  },
  {
   "cell_type": "markdown",
   "id": "57bbbd12-1af2-471e-9a93-f961d9a7e9f0",
   "metadata": {},
   "source": [
    "### Only 1 data type"
   ]
  },
  {
   "cell_type": "code",
   "execution_count": 133,
   "id": "ad612186-517e-4220-b681-1528a9806819",
   "metadata": {},
   "outputs": [
    {
     "data": {
      "text/plain": [
       "array([1, 2, 3])"
      ]
     },
     "execution_count": 133,
     "metadata": {},
     "output_type": "execute_result"
    }
   ],
   "source": [
    "# ndarray- n dimentional array\n",
    "a1 = np.array([1,2,3])\n",
    "a1"
   ]
  },
  {
   "cell_type": "code",
   "execution_count": 134,
   "id": "e254ebe4-a23a-4ee1-aa5c-70c8f87bcab4",
   "metadata": {},
   "outputs": [
    {
     "data": {
      "text/plain": [
       "numpy.ndarray"
      ]
     },
     "execution_count": 134,
     "metadata": {},
     "output_type": "execute_result"
    }
   ],
   "source": [
    "type(a1)"
   ]
  },
  {
   "cell_type": "code",
   "execution_count": 135,
   "id": "254216a5-0f53-4560-8b23-916759d140e2",
   "metadata": {},
   "outputs": [
    {
     "data": {
      "text/plain": [
       "array([[1, 2, 3],\n",
       "       [4, 5, 6]])"
      ]
     },
     "execution_count": 135,
     "metadata": {},
     "output_type": "execute_result"
    }
   ],
   "source": [
    "a2 = np.array([[1,2,3],[4,5,6]])\n",
    "a2\n"
   ]
  },
  {
   "cell_type": "code",
   "execution_count": 136,
   "id": "895a546e-eda0-4dfb-a12f-32cd3f32c3d0",
   "metadata": {},
   "outputs": [
    {
     "data": {
      "text/plain": [
       "array([[1, 2, 3],\n",
       "       [4, 5, 6],\n",
       "       [7, 8, 9]])"
      ]
     },
     "execution_count": 136,
     "metadata": {},
     "output_type": "execute_result"
    }
   ],
   "source": [
    "a3 = np.array([[1,2,3],[4,5,6], [7,8,9]])\n",
    "\n",
    "a3"
   ]
  },
  {
   "cell_type": "markdown",
   "id": "ee33b736-5ef9-406b-8fbe-e502b6416d39",
   "metadata": {},
   "source": [
    "## To calculate dimention\n",
    "`ndim` is used"
   ]
  },
  {
   "cell_type": "code",
   "execution_count": 137,
   "id": "a99f977f-c148-4dce-8a26-472e47c81811",
   "metadata": {},
   "outputs": [
    {
     "data": {
      "text/plain": [
       "(1, 2, 2)"
      ]
     },
     "execution_count": 137,
     "metadata": {},
     "output_type": "execute_result"
    }
   ],
   "source": [
    "a1.ndim, a2.ndim, a3.ndim\n",
    "#gives dimention of all 3 ndarray using `,` as seperator"
   ]
  },
  {
   "cell_type": "code",
   "execution_count": 138,
   "id": "15391fa3-e475-41b8-9b06-7177a868b07f",
   "metadata": {},
   "outputs": [
    {
     "data": {
      "text/plain": [
       "numpy.ndarray"
      ]
     },
     "execution_count": 138,
     "metadata": {},
     "output_type": "execute_result"
    }
   ],
   "source": [
    "type(a1)\n"
   ]
  },
  {
   "cell_type": "code",
   "execution_count": 139,
   "id": "ce964557-5d72-4bf9-b9c9-5a97067d03b7",
   "metadata": {},
   "outputs": [
    {
     "data": {
      "text/plain": [
       "dtype('int64')"
      ]
     },
     "execution_count": 139,
     "metadata": {},
     "output_type": "execute_result"
    }
   ],
   "source": [
    "a1.dtype"
   ]
  },
  {
   "cell_type": "code",
   "execution_count": 140,
   "id": "3a09e260-9f8f-48ca-bb18-8927581fd07c",
   "metadata": {},
   "outputs": [
    {
     "data": {
      "text/plain": [
       "(3, 6, 9)"
      ]
     },
     "execution_count": 140,
     "metadata": {},
     "output_type": "execute_result"
    }
   ],
   "source": [
    "# Size of that total ndarray\n",
    "a1.size, a2.size, a3.size"
   ]
  },
  {
   "cell_type": "code",
   "execution_count": 141,
   "id": "448ce082-098a-4644-bf52-b8fa38929e65",
   "metadata": {},
   "outputs": [],
   "source": [
    "import pandas as pd"
   ]
  },
  {
   "cell_type": "code",
   "execution_count": 142,
   "id": "2d7b1249-90fd-48c0-be32-c2b4d694d301",
   "metadata": {},
   "outputs": [
    {
     "data": {
      "text/html": [
       "<div>\n",
       "<style scoped>\n",
       "    .dataframe tbody tr th:only-of-type {\n",
       "        vertical-align: middle;\n",
       "    }\n",
       "\n",
       "    .dataframe tbody tr th {\n",
       "        vertical-align: top;\n",
       "    }\n",
       "\n",
       "    .dataframe thead th {\n",
       "        text-align: right;\n",
       "    }\n",
       "</style>\n",
       "<table border=\"1\" class=\"dataframe\">\n",
       "  <thead>\n",
       "    <tr style=\"text-align: right;\">\n",
       "      <th></th>\n",
       "      <th>0</th>\n",
       "      <th>1</th>\n",
       "      <th>2</th>\n",
       "    </tr>\n",
       "  </thead>\n",
       "  <tbody>\n",
       "    <tr>\n",
       "      <th>0</th>\n",
       "      <td>1</td>\n",
       "      <td>2</td>\n",
       "      <td>3</td>\n",
       "    </tr>\n",
       "    <tr>\n",
       "      <th>1</th>\n",
       "      <td>4</td>\n",
       "      <td>5</td>\n",
       "      <td>6</td>\n",
       "    </tr>\n",
       "  </tbody>\n",
       "</table>\n",
       "</div>"
      ],
      "text/plain": [
       "   0  1  2\n",
       "0  1  2  3\n",
       "1  4  5  6"
      ]
     },
     "execution_count": 142,
     "metadata": {},
     "output_type": "execute_result"
    }
   ],
   "source": [
    "# creating a df using ndarray\n",
    "df = pd.DataFrame(a2)\n",
    "df"
   ]
  },
  {
   "cell_type": "markdown",
   "id": "a4dfd58c-70ce-4398-9070-a7e52dec0c8c",
   "metadata": {},
   "source": [
    "## 2. Creating arrays"
   ]
  },
  {
   "cell_type": "code",
   "execution_count": 143,
   "id": "33b58d38-8fbe-4ace-9ffc-4582fc23d365",
   "metadata": {},
   "outputs": [
    {
     "data": {
      "text/plain": [
       "array([[1, 1, 1],\n",
       "       [1, 1, 1]])"
      ]
     },
     "execution_count": 143,
     "metadata": {},
     "output_type": "execute_result"
    }
   ],
   "source": [
    "ones = np.ones((2,3), dtype= int )\n",
    "ones"
   ]
  },
  {
   "cell_type": "code",
   "execution_count": 144,
   "id": "454ba956-bb5c-40c1-95fa-f484978ea150",
   "metadata": {},
   "outputs": [],
   "source": [
    "zeros = np.zeros((2,3))"
   ]
  },
  {
   "cell_type": "code",
   "execution_count": 145,
   "id": "e33790d9-5748-43d0-8e4e-1c6cb8f7a3da",
   "metadata": {},
   "outputs": [
    {
     "data": {
      "text/plain": [
       "array([0, 2, 4, 6, 8])"
      ]
     },
     "execution_count": 145,
     "metadata": {},
     "output_type": "execute_result"
    }
   ],
   "source": [
    "range_array = np.arange(0,10,2)\n",
    "range_array "
   ]
  },
  {
   "cell_type": "code",
   "execution_count": 146,
   "id": "0e9f0b5c-0903-4ced-a015-8b462ebcb570",
   "metadata": {},
   "outputs": [
    {
     "data": {
      "text/plain": [
       "array([[7, 8, 1, 5, 9],\n",
       "       [8, 9, 4, 3, 0],\n",
       "       [3, 5, 0, 2, 3]])"
      ]
     },
     "execution_count": 146,
     "metadata": {},
     "output_type": "execute_result"
    }
   ],
   "source": [
    "random_array = np.random.randint(0,10, size= (3,5))\n",
    "random_array"
   ]
  },
  {
   "cell_type": "code",
   "execution_count": 147,
   "id": "7b21c4e0-9bb8-491c-9fbb-554796659014",
   "metadata": {},
   "outputs": [
    {
     "data": {
      "text/plain": [
       "array([[0.79915856, 0.46147936, 0.78052918],\n",
       "       [0.11827443, 0.63992102, 0.14335329],\n",
       "       [0.94466892, 0.52184832, 0.41466194],\n",
       "       [0.26455561, 0.77423369, 0.45615033],\n",
       "       [0.56843395, 0.0187898 , 0.6176355 ]])"
      ]
     },
     "execution_count": 147,
     "metadata": {},
     "output_type": "execute_result"
    }
   ],
   "source": [
    "random_array2 = np.random.random((5,3))\n",
    "random_array2"
   ]
  },
  {
   "cell_type": "code",
   "execution_count": 148,
   "id": "676e39db-4cd9-4cd7-9004-9f8df7128075",
   "metadata": {},
   "outputs": [
    {
     "data": {
      "text/plain": [
       "array([[0.61209572, 0.616934  , 0.94374808],\n",
       "       [0.6818203 , 0.3595079 , 0.43703195],\n",
       "       [0.6976312 , 0.06022547, 0.66676672],\n",
       "       [0.67063787, 0.21038256, 0.1289263 ],\n",
       "       [0.31542835, 0.36371077, 0.57019677]])"
      ]
     },
     "execution_count": 148,
     "metadata": {},
     "output_type": "execute_result"
    }
   ],
   "source": [
    "random_array3 = np.random.rand(5,3)\n",
    "random_array3"
   ]
  },
  {
   "cell_type": "code",
   "execution_count": 149,
   "id": "6c69ed1f-caac-460c-9a13-af65963045ed",
   "metadata": {},
   "outputs": [
    {
     "data": {
      "text/plain": [
       "array([[4, 4, 6],\n",
       "       [4, 4, 3],\n",
       "       [4, 4, 8],\n",
       "       [4, 3, 7],\n",
       "       [5, 5, 0]])"
      ]
     },
     "execution_count": 149,
     "metadata": {},
     "output_type": "execute_result"
    }
   ],
   "source": [
    "random_array4 = np.random.randint(10,size=(5,3))\n",
    "random_array4"
   ]
  },
  {
   "cell_type": "code",
   "execution_count": 150,
   "id": "671a2384-b0bb-43dc-b60c-1336f7533c3d",
   "metadata": {},
   "outputs": [
    {
     "data": {
      "text/plain": [
       "(5, 3)"
      ]
     },
     "execution_count": 150,
     "metadata": {},
     "output_type": "execute_result"
    }
   ],
   "source": [
    "random_array4.shape"
   ]
  },
  {
   "cell_type": "markdown",
   "id": "31e3199b-e868-4170-b46b-34a1b9e6b57a",
   "metadata": {},
   "source": [
    "### When sharing notebook with someone, to get the same random value we use `seed`"
   ]
  },
  {
   "cell_type": "code",
   "execution_count": 151,
   "id": "c469d6e7-f95e-4c6c-9ca5-35c3650ebc25",
   "metadata": {},
   "outputs": [],
   "source": [
    "# Pseudo-random numbers\n",
    "np.random.seed(seed= 2)"
   ]
  },
  {
   "cell_type": "code",
   "execution_count": 152,
   "id": "ee7b45a3-1c08-46df-b3b5-ee12fe3ebaa5",
   "metadata": {},
   "outputs": [
    {
     "data": {
      "text/plain": [
       "array([[8, 8, 6],\n",
       "       [2, 8, 7],\n",
       "       [2, 1, 5],\n",
       "       [4, 4, 5],\n",
       "       [7, 3, 6]])"
      ]
     },
     "execution_count": 152,
     "metadata": {},
     "output_type": "execute_result"
    }
   ],
   "source": [
    "np.random.seed(seed= 2)\n",
    "random_array5 = np.random.randint(10,size=(5,3))\n",
    "random_array5"
   ]
  },
  {
   "cell_type": "markdown",
   "id": "ce00fd3e-b4f2-4ba5-a17b-a299ac30e888",
   "metadata": {},
   "source": [
    "    - Using Unique number "
   ]
  },
  {
   "cell_type": "code",
   "execution_count": 153,
   "id": "78d5544a-154a-4e80-81b2-4a54f1fa7fb0",
   "metadata": {},
   "outputs": [
    {
     "data": {
      "text/plain": [
       "array([1, 2, 3, 4, 5, 6, 7, 8])"
      ]
     },
     "execution_count": 153,
     "metadata": {},
     "output_type": "execute_result"
    }
   ],
   "source": [
    "np.unique(random_array5)"
   ]
  },
  {
   "cell_type": "code",
   "execution_count": 154,
   "id": "6f3d62dc-116a-4595-9ae6-c37b0ee0f2f6",
   "metadata": {},
   "outputs": [
    {
     "data": {
      "text/plain": [
       "array([1, 2, 3])"
      ]
     },
     "execution_count": 154,
     "metadata": {},
     "output_type": "execute_result"
    }
   ],
   "source": [
    "a1"
   ]
  },
  {
   "cell_type": "code",
   "execution_count": 155,
   "id": "be6bddfe-ef4a-480a-8406-2a16f3bc3bbf",
   "metadata": {},
   "outputs": [
    {
     "data": {
      "text/plain": [
       "1"
      ]
     },
     "execution_count": 155,
     "metadata": {},
     "output_type": "execute_result"
    }
   ],
   "source": [
    "a1[0]"
   ]
  },
  {
   "cell_type": "code",
   "execution_count": 156,
   "id": "298b96cc-e6d9-4e7e-9637-0e96937e4b91",
   "metadata": {},
   "outputs": [
    {
     "data": {
      "text/plain": [
       "array([[1, 2, 3],\n",
       "       [4, 5, 6]])"
      ]
     },
     "execution_count": 156,
     "metadata": {},
     "output_type": "execute_result"
    }
   ],
   "source": [
    "a2"
   ]
  },
  {
   "cell_type": "code",
   "execution_count": 157,
   "id": "358d0b3e-32bc-471e-a482-0eb814a55868",
   "metadata": {},
   "outputs": [
    {
     "data": {
      "text/plain": [
       "array([1, 2, 3])"
      ]
     },
     "execution_count": 157,
     "metadata": {},
     "output_type": "execute_result"
    }
   ],
   "source": [
    "a2[0]"
   ]
  },
  {
   "cell_type": "code",
   "execution_count": 158,
   "id": "51238e92-8474-4680-8389-e12fd5d8743a",
   "metadata": {},
   "outputs": [
    {
     "data": {
      "text/plain": [
       "array([[1, 2, 3],\n",
       "       [4, 5, 6],\n",
       "       [7, 8, 9]])"
      ]
     },
     "execution_count": 158,
     "metadata": {},
     "output_type": "execute_result"
    }
   ],
   "source": [
    "a3"
   ]
  },
  {
   "cell_type": "code",
   "execution_count": 159,
   "id": "a75ffe2e-e556-4f26-a65d-8bff5b0ad5d6",
   "metadata": {},
   "outputs": [
    {
     "data": {
      "text/plain": [
       "array([1, 2, 3])"
      ]
     },
     "execution_count": 159,
     "metadata": {},
     "output_type": "execute_result"
    }
   ],
   "source": [
    "a3[0]"
   ]
  },
  {
   "cell_type": "code",
   "execution_count": 160,
   "id": "51d5f7b5-e91c-4f77-9989-976b813b589a",
   "metadata": {},
   "outputs": [],
   "source": [
    "a4 = np.array([[[1,2,3],[4,5,6],[7,8,9]],[[10,11,12],[13,14,15], [16,17,18]]])"
   ]
  },
  {
   "cell_type": "code",
   "execution_count": 161,
   "id": "962e2345-6d12-443a-ae67-5d900e423414",
   "metadata": {},
   "outputs": [
    {
     "data": {
      "text/plain": [
       "array([[[ 1,  2,  3],\n",
       "        [ 4,  5,  6],\n",
       "        [ 7,  8,  9]],\n",
       "\n",
       "       [[10, 11, 12],\n",
       "        [13, 14, 15],\n",
       "        [16, 17, 18]]])"
      ]
     },
     "execution_count": 161,
     "metadata": {},
     "output_type": "execute_result"
    }
   ],
   "source": [
    "a4"
   ]
  },
  {
   "cell_type": "code",
   "execution_count": 162,
   "id": "d5efb1cb-8f0b-48cd-b3fd-32050dfa9f1a",
   "metadata": {},
   "outputs": [
    {
     "data": {
      "text/plain": [
       "(2, 3, 3)"
      ]
     },
     "execution_count": 162,
     "metadata": {},
     "output_type": "execute_result"
    }
   ],
   "source": [
    "a4.shape"
   ]
  },
  {
   "cell_type": "code",
   "execution_count": 163,
   "id": "c8f47c39-ad3a-4d0b-a612-80e450693ea8",
   "metadata": {},
   "outputs": [
    {
     "data": {
      "text/plain": [
       "array([ 8, 17])"
      ]
     },
     "execution_count": 163,
     "metadata": {},
     "output_type": "execute_result"
    }
   ],
   "source": [
    "a4[:2,2,1]"
   ]
  },
  {
   "cell_type": "code",
   "execution_count": 164,
   "id": "f9bc5584-7d6f-415a-88f0-5a0bf50e9488",
   "metadata": {},
   "outputs": [
    {
     "data": {
      "image/png": "[encoded data removed]",
      "text/plain": [
       "<Figure size 800x600 with 2 Axes>"
      ]
     },
     "metadata": {},
     "output_type": "display_data"
    }
   ],
   "source": [
    "import seaborn as sns\n",
    "import matplotlib.pyplot as plt\n",
    "\n",
    "# Choose the first sub-array along the first axis\n",
    "a4_slice = a4[0]\n",
    "\n",
    "# Create a heatmap to visualize the selected slice\n",
    "plt.figure(figsize=(8, 6))\n",
    "sns.heatmap(a4_slice, annot=True, cmap='viridis', fmt='d', cbar=True)\n",
    "plt.title('Array a4 - First Sub-array')\n",
    "plt.xlabel('Column')\n",
    "plt.ylabel('Row')\n",
    "plt.show()\n"
   ]
  },
  {
   "cell_type": "code",
   "execution_count": 165,
   "id": "c783c8e9-f5f0-409e-a0a0-bd8d18d59d67",
   "metadata": {},
   "outputs": [
    {
     "data": {
      "text/plain": [
       "array([[[4, 3, 7, 6, 1],\n",
       "        [3, 5, 8, 4, 6],\n",
       "        [3, 9, 2, 0, 4],\n",
       "        [2, 4, 1, 7, 8]],\n",
       "\n",
       "       [[2, 9, 8, 7, 1],\n",
       "        [6, 8, 5, 9, 9],\n",
       "        [9, 3, 0, 0, 2],\n",
       "        [8, 8, 2, 9, 6]],\n",
       "\n",
       "       [[5, 6, 6, 6, 3],\n",
       "        [8, 2, 1, 4, 8],\n",
       "        [1, 6, 9, 5, 1],\n",
       "        [2, 4, 7, 6, 4]]])"
      ]
     },
     "execution_count": 165,
     "metadata": {},
     "output_type": "execute_result"
    }
   ],
   "source": [
    "# Start from the end of size, (time*, row,column) where * is n numbes and n times.\n",
    "# np.random.randint(Take_random_value_under, size= (dimention,row,column)\n",
    "a6 = np.random.randint(10, size= (3,4,5))\n",
    "a6"
   ]
  },
  {
   "cell_type": "code",
   "execution_count": 166,
   "id": "6236ed16-7e0d-4007-9ec7-012873409b28",
   "metadata": {},
   "outputs": [
    {
     "data": {
      "text/plain": [
       "array([[7, 8],\n",
       "       [9, 6]])"
      ]
     },
     "execution_count": 166,
     "metadata": {},
     "output_type": "execute_result"
    }
   ],
   "source": [
    "a6[0:2,3,3:]"
   ]
  },
  {
   "cell_type": "code",
   "execution_count": 167,
   "id": "1e835d73-4b17-443d-9b3a-30e264889382",
   "metadata": {},
   "outputs": [
    {
     "data": {
      "text/plain": [
       "((3, 4, 5), 3)"
      ]
     },
     "execution_count": 167,
     "metadata": {},
     "output_type": "execute_result"
    }
   ],
   "source": [
    "a6.shape, a6.ndim"
   ]
  },
  {
   "cell_type": "markdown",
   "id": "7135f22b-479f-4a1f-9653-72c1a94643b1",
   "metadata": {},
   "source": [
    "# Manipulate & compare array"
   ]
  },
  {
   "cell_type": "markdown",
   "id": "133163ca-1d88-4e2f-87d3-30917bf3f049",
   "metadata": {},
   "source": [
    "### Arithmatic"
   ]
  },
  {
   "cell_type": "code",
   "execution_count": 168,
   "id": "fa36b7e9-81b1-4994-b32a-c97ec4a2020d",
   "metadata": {},
   "outputs": [
    {
     "data": {
      "text/plain": [
       "array([1, 2, 3])"
      ]
     },
     "execution_count": 168,
     "metadata": {},
     "output_type": "execute_result"
    }
   ],
   "source": [
    "a1"
   ]
  },
  {
   "cell_type": "code",
   "execution_count": 169,
   "id": "e1e61f7f-78f4-4fc2-9425-7d1b0abcbcab",
   "metadata": {},
   "outputs": [
    {
     "data": {
      "text/plain": [
       "array([1., 1., 1.])"
      ]
     },
     "execution_count": 169,
     "metadata": {},
     "output_type": "execute_result"
    }
   ],
   "source": [
    "ones = np.ones(3)\n",
    "ones"
   ]
  },
  {
   "cell_type": "code",
   "execution_count": 170,
   "id": "c88a1716-17ae-4ed4-95d1-f066fdd96739",
   "metadata": {},
   "outputs": [
    {
     "data": {
      "text/plain": [
       "array([2., 3., 4.])"
      ]
     },
     "execution_count": 170,
     "metadata": {},
     "output_type": "execute_result"
    }
   ],
   "source": [
    "a1 + ones"
   ]
  },
  {
   "cell_type": "code",
   "execution_count": 171,
   "id": "00965d0a-4322-42d3-9a2e-e52d819a3368",
   "metadata": {},
   "outputs": [
    {
     "data": {
      "text/plain": [
       "array([0., 1., 2.])"
      ]
     },
     "execution_count": 171,
     "metadata": {},
     "output_type": "execute_result"
    }
   ],
   "source": [
    "a1 -ones"
   ]
  },
  {
   "cell_type": "code",
   "execution_count": 172,
   "id": "25e5251f-db2d-4c70-8942-ceef68c417b9",
   "metadata": {},
   "outputs": [
    {
     "data": {
      "text/plain": [
       "array([1., 2., 3.])"
      ]
     },
     "execution_count": 172,
     "metadata": {},
     "output_type": "execute_result"
    }
   ],
   "source": [
    "a1*ones"
   ]
  },
  {
   "cell_type": "code",
   "execution_count": 173,
   "id": "3d949659-e55b-4bee-b205-b4bef93a28af",
   "metadata": {},
   "outputs": [
    {
     "data": {
      "text/plain": [
       "array([1, 2, 3])"
      ]
     },
     "execution_count": 173,
     "metadata": {},
     "output_type": "execute_result"
    }
   ],
   "source": [
    "a1"
   ]
  },
  {
   "cell_type": "code",
   "execution_count": 174,
   "id": "fe268200-1099-4146-815f-514a04037c50",
   "metadata": {},
   "outputs": [
    {
     "data": {
      "text/plain": [
       "array([[1, 2, 3],\n",
       "       [4, 5, 6]])"
      ]
     },
     "execution_count": 174,
     "metadata": {},
     "output_type": "execute_result"
    }
   ],
   "source": [
    "a2"
   ]
  },
  {
   "cell_type": "code",
   "execution_count": 175,
   "id": "a6a96596-99e9-4473-9356-601fc4b2d391",
   "metadata": {},
   "outputs": [
    {
     "data": {
      "text/plain": [
       "array([[ 1,  4,  9],\n",
       "       [ 4, 10, 18]])"
      ]
     },
     "execution_count": 175,
     "metadata": {},
     "output_type": "execute_result"
    }
   ],
   "source": [
    "a1*a2"
   ]
  },
  {
   "cell_type": "markdown",
   "id": "a64efcec-dfe3-43a4-ae8f-f91c60d45b66",
   "metadata": {},
   "source": [
    "### Can use numpy or directly do it\n",
    "like:\n",
    "np.add(a1 +a2) OR a1+a2"
   ]
  },
  {
   "cell_type": "markdown",
   "id": "cd70f68e-ad83-448c-ba43-a840968657e1",
   "metadata": {},
   "source": [
    "## Aggregation\n",
    "same operation on no. of things"
   ]
  },
  {
   "cell_type": "code",
   "execution_count": 176,
   "id": "76c930da-51d9-4f18-9905-ff0facdacbb2",
   "metadata": {},
   "outputs": [
    {
     "data": {
      "text/plain": [
       "list"
      ]
     },
     "execution_count": 176,
     "metadata": {},
     "output_type": "execute_result"
    }
   ],
   "source": [
    "l = [1,2,3]\n",
    "type(l)"
   ]
  },
  {
   "cell_type": "code",
   "execution_count": 177,
   "id": "09b3e073-d7b5-4abb-a7a2-72d43b41a6ae",
   "metadata": {},
   "outputs": [
    {
     "data": {
      "text/plain": [
       "6"
      ]
     },
     "execution_count": 177,
     "metadata": {},
     "output_type": "execute_result"
    }
   ],
   "source": [
    "sum(l)"
   ]
  },
  {
   "cell_type": "code",
   "execution_count": 178,
   "id": "7cd7a8c8-8793-4063-a348-c3109d77f472",
   "metadata": {},
   "outputs": [
    {
     "data": {
      "text/plain": [
       "6"
      ]
     },
     "execution_count": 178,
     "metadata": {},
     "output_type": "execute_result"
    }
   ],
   "source": [
    "np.sum(l)"
   ]
  },
  {
   "cell_type": "code",
   "execution_count": 179,
   "id": "4c7a8470-89c6-4ea7-9af0-4d0f6ffde71a",
   "metadata": {},
   "outputs": [],
   "source": [
    "massive_array = np.random.random(100000)"
   ]
  },
  {
   "cell_type": "code",
   "execution_count": 180,
   "id": "eedffb70-70e7-485b-bca1-0380eacb1bb9",
   "metadata": {},
   "outputs": [
    {
     "data": {
      "text/plain": [
       "100000"
      ]
     },
     "execution_count": 180,
     "metadata": {},
     "output_type": "execute_result"
    }
   ],
   "source": [
    "massive_array.size"
   ]
  },
  {
   "cell_type": "code",
   "execution_count": 181,
   "id": "19bcceb6-7222-4d30-8906-da1651761cef",
   "metadata": {},
   "outputs": [
    {
     "data": {
      "text/plain": [
       "array([0.70204204, 0.70654201, 0.48102176, ..., 0.77976745, 0.82107908,\n",
       "       0.83690958])"
      ]
     },
     "execution_count": 181,
     "metadata": {},
     "output_type": "execute_result"
    }
   ],
   "source": [
    "massive_array"
   ]
  },
  {
   "cell_type": "markdown",
   "id": "b4b9ad49-653b-414b-8b42-61bbcd949c27",
   "metadata": {},
   "source": [
    "## Anything starts with `%` is an inbuilt special function  "
   ]
  },
  {
   "cell_type": "code",
   "execution_count": 182,
   "id": "9fbe7fbf-e5a1-4570-a0bc-0b94ca8e51d6",
   "metadata": {},
   "outputs": [
    {
     "name": "stdout",
     "output_type": "stream",
     "text": [
      "8.24 ms ± 384 µs per loop (mean ± std. dev. of 7 runs, 100 loops each)\n",
      "25.6 µs ± 34.2 ns per loop (mean ± std. dev. of 7 runs, 10,000 loops each)\n"
     ]
    }
   ],
   "source": [
    "%timeit sum(massive_array)\n",
    "%timeit np.sum(massive_array)"
   ]
  },
  {
   "cell_type": "code",
   "execution_count": 183,
   "id": "15a179be-6c2f-4a89-84bb-2f225fc6d232",
   "metadata": {},
   "outputs": [
    {
     "data": {
      "text/plain": [
       "0.4997902933264"
      ]
     },
     "execution_count": 183,
     "metadata": {},
     "output_type": "execute_result"
    }
   ],
   "source": [
    "np.mean(massive_array)"
   ]
  },
  {
   "cell_type": "code",
   "execution_count": 184,
   "id": "f6335327-bc89-4901-b640-afc1ada0e17b",
   "metadata": {},
   "outputs": [
    {
     "data": {
      "text/plain": [
       "0.9999787515925456"
      ]
     },
     "execution_count": 184,
     "metadata": {},
     "output_type": "execute_result"
    }
   ],
   "source": [
    "np.max(massive_array)"
   ]
  },
  {
   "cell_type": "code",
   "execution_count": 185,
   "id": "a18179ed-d182-4093-a1fb-684c99b429e4",
   "metadata": {},
   "outputs": [
    {
     "data": {
      "text/plain": [
       "1.475970020647921e-06"
      ]
     },
     "execution_count": 185,
     "metadata": {},
     "output_type": "execute_result"
    }
   ],
   "source": [
    "np.min(massive_array)"
   ]
  },
  {
   "cell_type": "markdown",
   "id": "4996ddf8-b958-4515-8285-9384a0740cac",
   "metadata": {},
   "source": [
    "# Standard Deviation\n",
    "    - A measure of how spread out a group of numbers is from the mean\n"
   ]
  },
  {
   "cell_type": "code",
   "execution_count": 186,
   "id": "ab108145-cfc2-4a7f-a59b-f5283398fe1b",
   "metadata": {},
   "outputs": [
    {
     "data": {
      "text/plain": [
       "0.28939763505178345"
      ]
     },
     "execution_count": 186,
     "metadata": {},
     "output_type": "execute_result"
    }
   ],
   "source": [
    "np.std(massive_array)"
   ]
  },
  {
   "cell_type": "markdown",
   "id": "34fc58ac-6e06-4ce4-a57e-f1971f1575be",
   "metadata": {},
   "source": [
    "# Varience \n",
    "    measure of the average degree to which each number is different to the mean.\n",
    "#### Higher Varience \n",
    "    - wider range of numbers\n",
    "#### Lower Varience \n",
    "    - lower range of numbers "
   ]
  },
  {
   "cell_type": "code",
   "execution_count": 187,
   "id": "96b19ca9-f073-4184-bdf6-6b6cf30ef625",
   "metadata": {},
   "outputs": [
    {
     "data": {
      "text/plain": [
       "0.08375099117356523"
      ]
     },
     "execution_count": 187,
     "metadata": {},
     "output_type": "execute_result"
    }
   ],
   "source": [
    "np.var(massive_array)"
   ]
  },
  {
   "cell_type": "code",
   "execution_count": 188,
   "id": "09b45ad2-77ec-4e5d-98f2-fdc3752c2cdd",
   "metadata": {},
   "outputs": [
    {
     "data": {
      "text/plain": [
       "0.28939763505178345"
      ]
     },
     "execution_count": 188,
     "metadata": {},
     "output_type": "execute_result"
    }
   ],
   "source": [
    "# Standard devuiation = sq.root of varience\n",
    "np.sqrt(np.var(massive_array))"
   ]
  },
  {
   "cell_type": "code",
   "execution_count": 189,
   "id": "40d1ad7a-f026-44a0-95a4-49e72b7dd361",
   "metadata": {},
   "outputs": [],
   "source": [
    "# Demo of std and var\n",
    "high_var_array = np.array([1,100, 200, 300,4000,5000])\n",
    "low_var_array = np.array([2,4,6,8,10])"
   ]
  },
  {
   "cell_type": "code",
   "execution_count": 190,
   "id": "d82359e6-4c55-410f-bd68-b69669df702c",
   "metadata": {},
   "outputs": [
    {
     "data": {
      "text/plain": [
       "(4296133.472222221, 8.0)"
      ]
     },
     "execution_count": 190,
     "metadata": {},
     "output_type": "execute_result"
    }
   ],
   "source": [
    "np.var(high_var_array) , np.var(low_var_array)"
   ]
  },
  {
   "cell_type": "code",
   "execution_count": 191,
   "id": "6c56ea24-771a-4154-aecf-8cee7f0dd87c",
   "metadata": {},
   "outputs": [
    {
     "data": {
      "text/plain": [
       "(2072.711623024829, 2.8284271247461903)"
      ]
     },
     "execution_count": 191,
     "metadata": {},
     "output_type": "execute_result"
    }
   ],
   "source": [
    "np.std(high_var_array), np.std(low_var_array)"
   ]
  },
  {
   "cell_type": "code",
   "execution_count": 192,
   "id": "5a18be75-008f-43a6-9152-015b7fff2ed8",
   "metadata": {},
   "outputs": [
    {
     "data": {
      "text/plain": [
       "(1600.1666666666667, 6.0)"
      ]
     },
     "execution_count": 192,
     "metadata": {},
     "output_type": "execute_result"
    }
   ],
   "source": [
    "np.mean(high_var_array), np.mean(low_var_array)"
   ]
  },
  {
   "cell_type": "code",
   "execution_count": 193,
   "id": "0e22fe27-bfd7-49a7-93df-2742e448f0f1",
   "metadata": {},
   "outputs": [
    {
     "data": {
      "text/plain": [
       "<function matplotlib.pyplot.show(close=None, block=None)>"
      ]
     },
     "execution_count": 193,
     "metadata": {},
     "output_type": "execute_result"
    },
    {
     "data": {
      "image/png": "[encoded data removed]",
      "text/plain": [
       "<Figure size 640x480 with 1 Axes>"
      ]
     },
     "metadata": {},
     "output_type": "display_data"
    }
   ],
   "source": [
    "plt.hist(high_var_array)\n",
    "plt.show"
   ]
  },
  {
   "cell_type": "code",
   "execution_count": 194,
   "id": "bb30cab1-4132-495c-9159-9b7f266038a6",
   "metadata": {},
   "outputs": [
    {
     "data": {
      "text/plain": [
       "<function matplotlib.pyplot.show(close=None, block=None)>"
      ]
     },
     "execution_count": 194,
     "metadata": {},
     "output_type": "execute_result"
    },
    {
     "data": {
      "image/png": "[encoded data removed]",
      "text/plain": [
       "<Figure size 640x480 with 1 Axes>"
      ]
     },
     "metadata": {},
     "output_type": "display_data"
    }
   ],
   "source": [
    "plt.hist(low_var_array)\n",
    "plt.show\n"
   ]
  },
  {
   "cell_type": "markdown",
   "id": "964b4aa5-eb58-4bea-8622-bccf046cd179",
   "metadata": {},
   "source": [
    "# Reshaping & Transposing"
   ]
  },
  {
   "cell_type": "code",
   "execution_count": 195,
   "id": "bd5dfe4f-81d4-4a79-92a4-f4024d1089ad",
   "metadata": {},
   "outputs": [
    {
     "data": {
      "text/plain": [
       "array([[1, 2, 3],\n",
       "       [4, 5, 6]])"
      ]
     },
     "execution_count": 195,
     "metadata": {},
     "output_type": "execute_result"
    }
   ],
   "source": [
    "a2"
   ]
  },
  {
   "cell_type": "code",
   "execution_count": 196,
   "id": "de34f055-2729-400e-ba42-97f454829b1d",
   "metadata": {},
   "outputs": [
    {
     "data": {
      "text/plain": [
       "array([[1, 2, 3],\n",
       "       [4, 5, 6],\n",
       "       [7, 8, 9]])"
      ]
     },
     "execution_count": 196,
     "metadata": {},
     "output_type": "execute_result"
    }
   ],
   "source": [
    "   a3"
   ]
  },
  {
   "cell_type": "code",
   "execution_count": 197,
   "id": "767e6076-f112-4b6f-a7aa-e247d5eb6114",
   "metadata": {},
   "outputs": [],
   "source": [
    "# a2*a3"
   ]
  },
  {
   "cell_type": "code",
   "execution_count": 198,
   "id": "a7cce915-5418-425c-a894-66d5968fc942",
   "metadata": {},
   "outputs": [
    {
     "data": {
      "text/plain": [
       "((2, 3), (3, 3))"
      ]
     },
     "execution_count": 198,
     "metadata": {},
     "output_type": "execute_result"
    }
   ],
   "source": [
    "a2.shape , a3.shape"
   ]
  },
  {
   "cell_type": "code",
   "execution_count": 199,
   "id": "b1c896b5-52fd-4f16-a08a-8589db0731ca",
   "metadata": {},
   "outputs": [
    {
     "data": {
      "text/plain": [
       "array([[[1],\n",
       "        [2],\n",
       "        [3]],\n",
       "\n",
       "       [[4],\n",
       "        [5],\n",
       "        [6]]])"
      ]
     },
     "execution_count": 199,
     "metadata": {},
     "output_type": "execute_result"
    }
   ],
   "source": [
    "a2.reshape(2,3,1)"
   ]
  },
  {
   "cell_type": "code",
   "execution_count": 200,
   "id": "d8924df3-8949-439e-adc6-4035bd5bb543",
   "metadata": {},
   "outputs": [],
   "source": [
    "a2_r = a2.reshape(2,3,1)\n"
   ]
  },
  {
   "cell_type": "code",
   "execution_count": 201,
   "id": "8104f918-5f1b-41d6-a990-4163586a2042",
   "metadata": {},
   "outputs": [
    {
     "data": {
      "text/plain": [
       "array([[[ 1,  2,  3],\n",
       "        [ 8, 10, 12],\n",
       "        [21, 24, 27]],\n",
       "\n",
       "       [[ 4,  8, 12],\n",
       "        [20, 25, 30],\n",
       "        [42, 48, 54]]])"
      ]
     },
     "execution_count": 201,
     "metadata": {},
     "output_type": "execute_result"
    }
   ],
   "source": [
    "a2_r *a3"
   ]
  },
  {
   "cell_type": "markdown",
   "id": "04c4f6c5-b853-4bfb-a1c6-f474ff22c123",
   "metadata": {},
   "source": [
    "# Transpose"
   ]
  },
  {
   "cell_type": "code",
   "execution_count": 202,
   "id": "463037d6-8510-419a-8ce3-5bb2a9f0c347",
   "metadata": {},
   "outputs": [
    {
     "data": {
      "text/plain": [
       "array([[1, 4],\n",
       "       [2, 5],\n",
       "       [3, 6]])"
      ]
     },
     "execution_count": 202,
     "metadata": {},
     "output_type": "execute_result"
    }
   ],
   "source": [
    "# Transpose - to convert row in column and column into row at the same time\n",
    "a2.T"
   ]
  },
  {
   "cell_type": "code",
   "execution_count": 203,
   "id": "e9353007-14f9-468f-909e-4955386beaef",
   "metadata": {},
   "outputs": [
    {
     "data": {
      "text/plain": [
       "array([[1, 2, 3],\n",
       "       [4, 5, 6]])"
      ]
     },
     "execution_count": 203,
     "metadata": {},
     "output_type": "execute_result"
    }
   ],
   "source": [
    "a2"
   ]
  },
  {
   "cell_type": "markdown",
   "id": "b193cf34-e422-40b5-b4e1-c7d62f669073",
   "metadata": {},
   "source": [
    "# Dot product"
   ]
  },
  {
   "cell_type": "code",
   "execution_count": 204,
   "id": "4fe59014-a282-4c75-a621-62d80b821df1",
   "metadata": {},
   "outputs": [
    {
     "data": {
      "text/plain": [
       "array([[5, 0, 3],\n",
       "       [3, 7, 9],\n",
       "       [3, 5, 2],\n",
       "       [4, 7, 6],\n",
       "       [8, 8, 1]])"
      ]
     },
     "execution_count": 204,
     "metadata": {},
     "output_type": "execute_result"
    }
   ],
   "source": [
    "np.random.seed(0)\n",
    "\n",
    "mat1 = np.random.randint(10, size= (5,3))\n",
    "mat2 = np.random.randint(10, size= (5,3))\n",
    "mat1"
   ]
  },
  {
   "cell_type": "code",
   "execution_count": 205,
   "id": "c31dfff5-fd49-4385-a118-adf8fe15f611",
   "metadata": {},
   "outputs": [
    {
     "data": {
      "text/plain": [
       "array([[6, 7, 7],\n",
       "       [8, 1, 5],\n",
       "       [9, 8, 9],\n",
       "       [4, 3, 0],\n",
       "       [3, 5, 0]])"
      ]
     },
     "execution_count": 205,
     "metadata": {},
     "output_type": "execute_result"
    }
   ],
   "source": [
    "mat2"
   ]
  },
  {
   "cell_type": "code",
   "execution_count": 206,
   "id": "3635736c-9aff-4541-8b80-1c5d203067e3",
   "metadata": {},
   "outputs": [
    {
     "data": {
      "text/plain": [
       "((5, 3), (5, 3))"
      ]
     },
     "execution_count": 206,
     "metadata": {},
     "output_type": "execute_result"
    }
   ],
   "source": [
    "mat1.shape , mat2.shape"
   ]
  },
  {
   "cell_type": "code",
   "execution_count": 207,
   "id": "6fbe7698-a07d-4364-8e32-e5be8ba81c4a",
   "metadata": {},
   "outputs": [
    {
     "data": {
      "text/plain": [
       "array([[30,  0, 21],\n",
       "       [24,  7, 45],\n",
       "       [27, 40, 18],\n",
       "       [16, 21,  0],\n",
       "       [24, 40,  0]])"
      ]
     },
     "execution_count": 207,
     "metadata": {},
     "output_type": "execute_result"
    }
   ],
   "source": [
    " # Element-wise multiplication (hadamard product)\n",
    "mat1*mat2"
   ]
  },
  {
   "cell_type": "code",
   "execution_count": 208,
   "id": "164c759e-8e7b-492a-b2ba-11d6f723751e",
   "metadata": {},
   "outputs": [
    {
     "data": {
      "text/plain": [
       "array([[6, 8, 9, 4, 3],\n",
       "       [7, 1, 8, 3, 5],\n",
       "       [7, 5, 9, 0, 0]])"
      ]
     },
     "execution_count": 208,
     "metadata": {},
     "output_type": "execute_result"
    }
   ],
   "source": [
    "nm2= mat2.T\n",
    "nm2"
   ]
  },
  {
   "cell_type": "code",
   "execution_count": 209,
   "id": "2d760268-19b7-47f6-89d8-581ff0acff0c",
   "metadata": {},
   "outputs": [
    {
     "data": {
      "text/plain": [
       "array([[ 51,  55,  72,  20,  15],\n",
       "       [130,  76, 164,  33,  44],\n",
       "       [ 67,  39,  85,  27,  34],\n",
       "       [115,  69, 146,  37,  47],\n",
       "       [111,  77, 145,  56,  64]])"
      ]
     },
     "execution_count": 209,
     "metadata": {},
     "output_type": "execute_result"
    }
   ],
   "source": [
    "# Dot product\n",
    "mat3 = np.dot(mat1, nm2)\n",
    "mat3\n"
   ]
  },
  {
   "cell_type": "code",
   "execution_count": 210,
   "id": "3cf46870-e7b3-4c87-8d30-222c94d781b3",
   "metadata": {},
   "outputs": [
    {
     "data": {
      "text/plain": [
       "(5, 5)"
      ]
     },
     "execution_count": 210,
     "metadata": {},
     "output_type": "execute_result"
    }
   ],
   "source": [
    "mat3.shape"
   ]
  },
  {
   "cell_type": "markdown",
   "id": "3d79676a-8f61-428b-baec-b74aac8ffd92",
   "metadata": {},
   "source": [
    "# Dot product example (penut butter sales)"
   ]
  },
  {
   "cell_type": "code",
   "execution_count": 211,
   "id": "5279ebb6-6ef3-4fbd-801a-33fe6ff7fd65",
   "metadata": {},
   "outputs": [
    {
     "data": {
      "text/plain": [
       "array([[12, 15,  0],\n",
       "       [ 3,  3,  7],\n",
       "       [ 9, 19, 18],\n",
       "       [ 4,  6, 12],\n",
       "       [ 1,  6,  7]])"
      ]
     },
     "execution_count": 211,
     "metadata": {},
     "output_type": "execute_result"
    }
   ],
   "source": [
    "np.random.seed(0)\n",
    "# Number of jars sold\n",
    "sale = np.random.randint(20, size = (5,3))\n",
    "sale"
   ]
  },
  {
   "cell_type": "code",
   "execution_count": 212,
   "id": "734381b5-4b4d-4186-b8ce-fc2c72dbaada",
   "metadata": {},
   "outputs": [
    {
     "data": {
      "text/html": [
       "<div>\n",
       "<style scoped>\n",
       "    .dataframe tbody tr th:only-of-type {\n",
       "        vertical-align: middle;\n",
       "    }\n",
       "\n",
       "    .dataframe tbody tr th {\n",
       "        vertical-align: top;\n",
       "    }\n",
       "\n",
       "    .dataframe thead th {\n",
       "        text-align: right;\n",
       "    }\n",
       "</style>\n",
       "<table border=\"1\" class=\"dataframe\">\n",
       "  <thead>\n",
       "    <tr style=\"text-align: right;\">\n",
       "      <th></th>\n",
       "      <th>badaam</th>\n",
       "      <th>penut</th>\n",
       "      <th>Kaju</th>\n",
       "    </tr>\n",
       "  </thead>\n",
       "  <tbody>\n",
       "    <tr>\n",
       "      <th>Monday</th>\n",
       "      <td>12</td>\n",
       "      <td>15</td>\n",
       "      <td>0</td>\n",
       "    </tr>\n",
       "    <tr>\n",
       "      <th>Tues</th>\n",
       "      <td>3</td>\n",
       "      <td>3</td>\n",
       "      <td>7</td>\n",
       "    </tr>\n",
       "    <tr>\n",
       "      <th>Wed</th>\n",
       "      <td>9</td>\n",
       "      <td>19</td>\n",
       "      <td>18</td>\n",
       "    </tr>\n",
       "    <tr>\n",
       "      <th>Thurs</th>\n",
       "      <td>4</td>\n",
       "      <td>6</td>\n",
       "      <td>12</td>\n",
       "    </tr>\n",
       "    <tr>\n",
       "      <th>Fri</th>\n",
       "      <td>1</td>\n",
       "      <td>6</td>\n",
       "      <td>7</td>\n",
       "    </tr>\n",
       "  </tbody>\n",
       "</table>\n",
       "</div>"
      ],
      "text/plain": [
       "        badaam  penut  Kaju\n",
       "Monday      12     15     0\n",
       "Tues         3      3     7\n",
       "Wed          9     19    18\n",
       "Thurs        4      6    12\n",
       "Fri          1      6     7"
      ]
     },
     "execution_count": 212,
     "metadata": {},
     "output_type": "execute_result"
    }
   ],
   "source": [
    "# Create weekly sales dataframe\n",
    "wsale = pd.DataFrame(sale,index=[\"Monday\", \"Tues\",\"Wed\",\"Thurs\",\"Fri\"], columns = [\"badaam\", \"penut\", \"Kaju\"])\n",
    "wsale"
   ]
  },
  {
   "cell_type": "code",
   "execution_count": 213,
   "id": "198c89cf-14ca-4580-a657-e7e16efba489",
   "metadata": {},
   "outputs": [
    {
     "data": {
      "text/plain": [
       "array([10,  8, 12])"
      ]
     },
     "execution_count": 213,
     "metadata": {},
     "output_type": "execute_result"
    }
   ],
   "source": [
    "price = np.array([10,8,12])\n",
    "price"
   ]
  },
  {
   "cell_type": "code",
   "execution_count": 214,
   "id": "59cac10b-29fd-487b-8647-ea47dd3277ee",
   "metadata": {},
   "outputs": [
    {
     "data": {
      "text/html": [
       "<div>\n",
       "<style scoped>\n",
       "    .dataframe tbody tr th:only-of-type {\n",
       "        vertical-align: middle;\n",
       "    }\n",
       "\n",
       "    .dataframe tbody tr th {\n",
       "        vertical-align: top;\n",
       "    }\n",
       "\n",
       "    .dataframe thead th {\n",
       "        text-align: right;\n",
       "    }\n",
       "</style>\n",
       "<table border=\"1\" class=\"dataframe\">\n",
       "  <thead>\n",
       "    <tr style=\"text-align: right;\">\n",
       "      <th></th>\n",
       "      <th>badaam</th>\n",
       "      <th>penut</th>\n",
       "      <th>Kaju</th>\n",
       "    </tr>\n",
       "  </thead>\n",
       "  <tbody>\n",
       "    <tr>\n",
       "      <th>Price</th>\n",
       "      <td>10</td>\n",
       "      <td>8</td>\n",
       "      <td>12</td>\n",
       "    </tr>\n",
       "  </tbody>\n",
       "</table>\n",
       "</div>"
      ],
      "text/plain": [
       "       badaam  penut  Kaju\n",
       "Price      10      8    12"
      ]
     },
     "execution_count": 214,
     "metadata": {},
     "output_type": "execute_result"
    }
   ],
   "source": [
    " #Creating price dataframe\n",
    "bp = pd.DataFrame(price.reshape(1,3), index= [\"Price\"], columns = [\"badaam\", \"penut\", \"Kaju\"])\n",
    "bp"
   ]
  },
  {
   "cell_type": "code",
   "execution_count": 215,
   "id": "69b6ecba-9e37-4098-b871-567fb728e5a9",
   "metadata": {},
   "outputs": [
    {
     "data": {
      "text/plain": [
       "((3,), (5, 3))"
      ]
     },
     "execution_count": 215,
     "metadata": {},
     "output_type": "execute_result"
    }
   ],
   "source": [
    "  price.shape ,sale.shape"
   ]
  },
  {
   "cell_type": "code",
   "execution_count": 216,
   "id": "16efd065-f36d-43de-aa3f-40be0b6847fd",
   "metadata": {},
   "outputs": [
    {
     "data": {
      "text/plain": [
       "array([240, 138, 458, 232, 142])"
      ]
     },
     "execution_count": 216,
     "metadata": {},
     "output_type": "execute_result"
    }
   ],
   "source": [
    "tsale = price.dot(sale.T)\n",
    "tsale"
   ]
  },
  {
   "cell_type": "code",
   "execution_count": 217,
   "id": "8d27e5d2-fa80-4b25-9a7f-9f6385608347",
   "metadata": {},
   "outputs": [
    {
     "data": {
      "text/plain": [
       "((1, 3), (5, 3))"
      ]
     },
     "execution_count": 217,
     "metadata": {},
     "output_type": "execute_result"
    }
   ],
   "source": [
    "# creating daily shape\n",
    "bp.shape, wsale.shape"
   ]
  },
  {
   "cell_type": "code",
   "execution_count": 218,
   "id": "3fd1680c-020d-4f0f-9980-e4d8b0cfcd2a",
   "metadata": {},
   "outputs": [
    {
     "data": {
      "text/html": [
       "<div>\n",
       "<style scoped>\n",
       "    .dataframe tbody tr th:only-of-type {\n",
       "        vertical-align: middle;\n",
       "    }\n",
       "\n",
       "    .dataframe tbody tr th {\n",
       "        vertical-align: top;\n",
       "    }\n",
       "\n",
       "    .dataframe thead th {\n",
       "        text-align: right;\n",
       "    }\n",
       "</style>\n",
       "<table border=\"1\" class=\"dataframe\">\n",
       "  <thead>\n",
       "    <tr style=\"text-align: right;\">\n",
       "      <th></th>\n",
       "      <th>Monday</th>\n",
       "      <th>Tues</th>\n",
       "      <th>Wed</th>\n",
       "      <th>Thurs</th>\n",
       "      <th>Fri</th>\n",
       "    </tr>\n",
       "  </thead>\n",
       "  <tbody>\n",
       "    <tr>\n",
       "      <th>Price</th>\n",
       "      <td>240</td>\n",
       "      <td>138</td>\n",
       "      <td>458</td>\n",
       "      <td>232</td>\n",
       "      <td>142</td>\n",
       "    </tr>\n",
       "  </tbody>\n",
       "</table>\n",
       "</div>"
      ],
      "text/plain": [
       "       Monday  Tues  Wed  Thurs  Fri\n",
       "Price     240   138  458    232  142"
      ]
     },
     "execution_count": 218,
     "metadata": {},
     "output_type": "execute_result"
    }
   ],
   "source": [
    "# Cal daily sales\n",
    "ds = bp.dot(wsale.T)\n",
    "ds"
   ]
  },
  {
   "cell_type": "code",
   "execution_count": 219,
   "id": "fd88afed-fe6a-44b4-9910-c1709a8c127a",
   "metadata": {},
   "outputs": [
    {
     "data": {
      "text/html": [
       "<div>\n",
       "<style scoped>\n",
       "    .dataframe tbody tr th:only-of-type {\n",
       "        vertical-align: middle;\n",
       "    }\n",
       "\n",
       "    .dataframe tbody tr th {\n",
       "        vertical-align: top;\n",
       "    }\n",
       "\n",
       "    .dataframe thead th {\n",
       "        text-align: right;\n",
       "    }\n",
       "</style>\n",
       "<table border=\"1\" class=\"dataframe\">\n",
       "  <thead>\n",
       "    <tr style=\"text-align: right;\">\n",
       "      <th></th>\n",
       "      <th>badaam</th>\n",
       "      <th>penut</th>\n",
       "      <th>Kaju</th>\n",
       "      <th>Total</th>\n",
       "    </tr>\n",
       "  </thead>\n",
       "  <tbody>\n",
       "    <tr>\n",
       "      <th>Monday</th>\n",
       "      <td>12</td>\n",
       "      <td>15</td>\n",
       "      <td>0</td>\n",
       "      <td>240</td>\n",
       "    </tr>\n",
       "    <tr>\n",
       "      <th>Tues</th>\n",
       "      <td>3</td>\n",
       "      <td>3</td>\n",
       "      <td>7</td>\n",
       "      <td>138</td>\n",
       "    </tr>\n",
       "    <tr>\n",
       "      <th>Wed</th>\n",
       "      <td>9</td>\n",
       "      <td>19</td>\n",
       "      <td>18</td>\n",
       "      <td>458</td>\n",
       "    </tr>\n",
       "    <tr>\n",
       "      <th>Thurs</th>\n",
       "      <td>4</td>\n",
       "      <td>6</td>\n",
       "      <td>12</td>\n",
       "      <td>232</td>\n",
       "    </tr>\n",
       "    <tr>\n",
       "      <th>Fri</th>\n",
       "      <td>1</td>\n",
       "      <td>6</td>\n",
       "      <td>7</td>\n",
       "      <td>142</td>\n",
       "    </tr>\n",
       "  </tbody>\n",
       "</table>\n",
       "</div>"
      ],
      "text/plain": [
       "        badaam  penut  Kaju  Total\n",
       "Monday      12     15     0    240\n",
       "Tues         3      3     7    138\n",
       "Wed          9     19    18    458\n",
       "Thurs        4      6    12    232\n",
       "Fri          1      6     7    142"
      ]
     },
     "execution_count": 219,
     "metadata": {},
     "output_type": "execute_result"
    }
   ],
   "source": [
    "wsale[\"Total\"] = ds.T\n",
    "wsale"
   ]
  },
  {
   "cell_type": "markdown",
   "id": "910213ae-52c6-446d-bf23-36db2b3eac51",
   "metadata": {},
   "source": [
    "# Comparison Operater"
   ]
  },
  {
   "cell_type": "code",
   "execution_count": 220,
   "id": "f940dbad-ab48-435a-90c0-ba1ce376d1d9",
   "metadata": {},
   "outputs": [
    {
     "data": {
      "text/plain": [
       "(array([[False, False, False],\n",
       "        [False, False, False]]),\n",
       " array([[ True,  True,  True],\n",
       "        [False, False, False]]))"
      ]
     },
     "execution_count": 220,
     "metadata": {},
     "output_type": "execute_result"
    }
   ],
   "source": [
    "a1>a2 , a1 ==a2, "
   ]
  },
  {
   "cell_type": "markdown",
   "id": "3dc9e8ed-4d77-4137-8f8b-06301b42d5ff",
   "metadata": {},
   "source": [
    "# Sorting arrays"
   ]
  },
  {
   "cell_type": "code",
   "execution_count": 221,
   "id": "060c31a0-6468-4531-8339-b02cd9f60245",
   "metadata": {},
   "outputs": [
    {
     "data": {
      "text/plain": [
       "array([[7, 8, 1, 5, 9],\n",
       "       [8, 9, 4, 3, 0],\n",
       "       [3, 5, 0, 2, 3]])"
      ]
     },
     "execution_count": 221,
     "metadata": {},
     "output_type": "execute_result"
    }
   ],
   "source": [
    "random_array"
   ]
  },
  {
   "cell_type": "markdown",
   "id": "1b3aa539-a25e-436f-b33b-7fb87f67e4d4",
   "metadata": {},
   "source": [
    "####  row wise sorting using `sort()`"
   ]
  },
  {
   "cell_type": "code",
   "execution_count": 224,
   "id": "e0a16c3d-e47e-4d0b-8aa5-099203a43b81",
   "metadata": {},
   "outputs": [
    {
     "name": "stdout",
     "output_type": "stream",
     "text": [
      "1.44 µs ± 20.1 ns per loop (mean ± std. dev. of 7 runs, 1,000,000 loops each)\n"
     ]
    }
   ],
   "source": [
    "%timeit np.sort(random_array)"
   ]
  },
  {
   "cell_type": "code",
   "execution_count": 226,
   "id": "26503a81-38ef-413f-8629-92999d889f1c",
   "metadata": {},
   "outputs": [
    {
     "name": "stdout",
     "output_type": "stream",
     "text": [
      "266 ns ± 1.17 ns per loop (mean ± std. dev. of 7 runs, 1,000,000 loops each)\n"
     ]
    }
   ],
   "source": [
    "%timeit random_array.sort()"
   ]
  },
  {
   "cell_type": "code",
   "execution_count": 240,
   "id": "942c7369-a2c0-4a4f-8de2-ecc9c1434feb",
   "metadata": {},
   "outputs": [
    {
     "data": {
      "text/plain": [
       "array([[ 7, 14,  8,  1,  5,  9, 13,  8,  9,  4],\n",
       "       [ 3,  0,  3,  5, 14,  0,  2,  3,  8,  1],\n",
       "       [ 3, 13,  3,  3, 14,  7,  0,  1,  9,  9],\n",
       "       [ 0, 10,  4,  7,  3, 14, 11,  2,  7, 12],\n",
       "       [ 2,  0,  0,  4,  5,  5,  6,  8,  4,  1],\n",
       "       [ 4,  9, 10, 10,  8,  1,  1,  7,  9,  9],\n",
       "       [ 3,  6,  7, 11, 14,  2, 11,  0, 14,  3],\n",
       "       [ 5, 12,  9, 10,  4, 11,  4,  6,  4,  4],\n",
       "       [ 3, 12,  4,  4,  8, 14,  4,  3, 10,  7],\n",
       "       [13,  5,  5,  0,  1,  5,  9,  3,  0,  5]])"
      ]
     },
     "execution_count": 240,
     "metadata": {},
     "output_type": "execute_result"
    }
   ],
   "source": [
    "ra = np.random.randint(15, size = (10,10))\n",
    "ra"
   ]
  },
  {
   "cell_type": "code",
   "execution_count": 241,
   "id": "b90f7695-1428-4d9e-a962-6ccfab884077",
   "metadata": {},
   "outputs": [
    {
     "data": {
      "text/plain": [
       "array([[3, 9, 4, 0, 2, 7, 5, 8, 6, 1],\n",
       "       [1, 5, 9, 6, 0, 2, 7, 3, 8, 4],\n",
       "       [6, 7, 0, 2, 3, 5, 8, 9, 1, 4],\n",
       "       [0, 7, 4, 2, 3, 8, 1, 6, 9, 5],\n",
       "       [1, 2, 9, 0, 3, 8, 4, 5, 6, 7],\n",
       "       [5, 6, 0, 7, 4, 1, 8, 9, 2, 3],\n",
       "       [7, 5, 0, 9, 1, 2, 3, 6, 4, 8],\n",
       "       [4, 6, 8, 9, 0, 7, 2, 3, 5, 1],\n",
       "       [0, 7, 2, 3, 6, 9, 4, 8, 1, 5],\n",
       "       [3, 8, 4, 7, 1, 2, 5, 9, 6, 0]])"
      ]
     },
     "execution_count": 241,
     "metadata": {},
     "output_type": "execute_result"
    }
   ],
   "source": [
    "np.argsort(ra)"
   ]
  },
  {
   "cell_type": "code",
   "execution_count": 246,
   "id": "52152642-f4fc-4e1a-8a6e-1f937b0b18f6",
   "metadata": {},
   "outputs": [
    {
     "data": {
      "text/plain": [
       "array([[ 7, 14,  8,  1,  5,  9, 13,  8,  9,  4],\n",
       "       [ 3,  0,  3,  5, 14,  0,  2,  3,  8,  1],\n",
       "       [ 3, 13,  3,  3, 14,  7,  0,  1,  9,  9],\n",
       "       [ 0, 10,  4,  7,  3, 14, 11,  2,  7, 12],\n",
       "       [ 2,  0,  0,  4,  5,  5,  6,  8,  4,  1],\n",
       "       [ 4,  9, 10, 10,  8,  1,  1,  7,  9,  9],\n",
       "       [ 3,  6,  7, 11, 14,  2, 11,  0, 14,  3],\n",
       "       [ 5, 12,  9, 10,  4, 11,  4,  6,  4,  4],\n",
       "       [ 3, 12,  4,  4,  8, 14,  4,  3, 10,  7],\n",
       "       [13,  5,  5,  0,  1,  5,  9,  3,  0,  5]])"
      ]
     },
     "execution_count": 246,
     "metadata": {},
     "output_type": "execute_result"
    }
   ],
   "source": [
    "ra"
   ]
  },
  {
   "cell_type": "code",
   "execution_count": 253,
   "id": "7edfa272-7fc5-4df2-91ca-07fbd2c60b57",
   "metadata": {},
   "outputs": [
    {
     "data": {
      "text/plain": [
       "array([3, 1, 4, 9, 9, 1, 2, 6, 9, 1])"
      ]
     },
     "execution_count": 253,
     "metadata": {},
     "output_type": "execute_result"
    }
   ],
   "source": [
    "#gives the index of the smallest number in the column\n",
    "np.argmin(ra,axis=0)"
   ]
  },
  {
   "cell_type": "code",
   "execution_count": 248,
   "id": "464b95da-76bb-49cd-bc86-c6a1be401615",
   "metadata": {},
   "outputs": [
    {
     "data": {
      "text/plain": [
       "array([3, 1, 6, 0, 1, 5, 7, 4, 0, 3])"
      ]
     },
     "execution_count": 248,
     "metadata": {},
     "output_type": "execute_result"
    }
   ],
   "source": [
    "#gives the index of the smallest number in the row\n",
    "np.argmin(ra,axis=1)"
   ]
  },
  {
   "cell_type": "code",
   "execution_count": 251,
   "id": "6d623547-b326-4f37-a1bc-98ff126f986b",
   "metadata": {},
   "outputs": [
    {
     "data": {
      "text/plain": [
       "array([9, 0, 5, 6, 1, 3, 0, 0, 6, 3])"
      ]
     },
     "execution_count": 251,
     "metadata": {},
     "output_type": "execute_result"
    }
   ],
   "source": [
    "#gives the index of the largest number in the column\n",
    "np.argmax(ra, axis=0)"
   ]
  },
  {
   "cell_type": "code",
   "execution_count": 252,
   "id": "5acf6b22-885c-4cd9-a00f-9c0cd913011e",
   "metadata": {},
   "outputs": [
    {
     "data": {
      "text/plain": [
       "array([3, 1, 4, 9, 9, 1, 2, 6, 9, 1])"
      ]
     },
     "execution_count": 252,
     "metadata": {},
     "output_type": "execute_result"
    }
   ],
   "source": [
    "#gives the index of the largest number in the row\n",
    "np.argmin(ra,axis=0)"
   ]
  },
  {
   "cell_type": "markdown",
   "id": "7e8badbe-03f0-4b5d-8dfb-7a6226d3c2a8",
   "metadata": {},
   "source": [
    "## Practical example\n"
   ]
  },
  {
   "cell_type": "markdown",
   "id": "b6c972cf-502d-4a15-a97a-25fd7b2b535c",
   "metadata": {},
   "source": [
    "<img src= \"images/numpy-panda.jpeg\">"
   ]
  },
  {
   "cell_type": "code",
   "execution_count": 259,
   "id": "a269712c-c152-43cd-9f14-abbc5be664f7",
   "metadata": {},
   "outputs": [
    {
     "data": {
      "text/plain": [
       "numpy.ndarray"
      ]
     },
     "execution_count": 259,
     "metadata": {},
     "output_type": "execute_result"
    }
   ],
   "source": [
    "# Trun an image into na numpy array\n",
    "from matplotlib.image import imread\n",
    "panda = imread(\"images/numpy-panda.jpeg\")\n",
    "type(panda)"
   ]
  },
  {
   "cell_type": "code",
   "execution_count": 260,
   "id": "2d0b97ed-3228-4695-baf0-04d1e56e3531",
   "metadata": {},
   "outputs": [
    {
     "data": {
      "text/plain": [
       "array([[[14, 27, 17],\n",
       "        [14, 27, 17],\n",
       "        [12, 28, 17],\n",
       "        ...,\n",
       "        [42, 35, 25],\n",
       "        [42, 35, 25],\n",
       "        [41, 34, 24]],\n",
       "\n",
       "       [[14, 27, 17],\n",
       "        [14, 27, 17],\n",
       "        [12, 28, 17],\n",
       "        ...,\n",
       "        [42, 35, 25],\n",
       "        [42, 35, 25],\n",
       "        [42, 35, 25]],\n",
       "\n",
       "       [[13, 26, 16],\n",
       "        [14, 27, 17],\n",
       "        [12, 28, 17],\n",
       "        ...,\n",
       "        [42, 35, 25],\n",
       "        [42, 35, 25],\n",
       "        [42, 35, 25]],\n",
       "\n",
       "       ...,\n",
       "\n",
       "       [[47, 32, 27],\n",
       "        [48, 33, 28],\n",
       "        [48, 33, 26],\n",
       "        ...,\n",
       "        [ 6,  6,  8],\n",
       "        [ 6,  6,  8],\n",
       "        [ 6,  6,  8]],\n",
       "\n",
       "       [[39, 24, 19],\n",
       "        [40, 25, 18],\n",
       "        [42, 27, 20],\n",
       "        ...,\n",
       "        [ 6,  6,  8],\n",
       "        [ 6,  6,  8],\n",
       "        [ 6,  6,  8]],\n",
       "\n",
       "       [[32, 17, 10],\n",
       "        [33, 18, 11],\n",
       "        [36, 21, 14],\n",
       "        ...,\n",
       "        [ 6,  6,  8],\n",
       "        [ 6,  6,  8],\n",
       "        [ 6,  6,  8]]], dtype=uint8)"
      ]
     },
     "execution_count": 260,
     "metadata": {},
     "output_type": "execute_result"
    }
   ],
   "source": [
    "panda"
   ]
  },
  {
   "cell_type": "code",
   "execution_count": 261,
   "id": "c433723e-df0b-4806-98c0-0d5b8f18a315",
   "metadata": {},
   "outputs": [
    {
     "data": {
      "text/plain": [
       "(3271680, (852, 1280, 3), 3)"
      ]
     },
     "execution_count": 261,
     "metadata": {},
     "output_type": "execute_result"
    }
   ],
   "source": [
    "panda.size, panda.shape, panda.ndim"
   ]
  },
  {
   "cell_type": "code",
   "execution_count": null,
   "id": "67b332d4-fefc-4ffa-ad8c-c77564498dcb",
   "metadata": {},
   "outputs": [],
   "source": []
  }
 ],
 "metadata": {
  "kernelspec": {
   "display_name": "Python 3 (ipykernel)",
   "language": "python",
   "name": "python3"
  },
  "language_info": {
   "codemirror_mode": {
    "name": "ipython",
    "version": 3
   },
   "file_extension": ".py",
   "mimetype": "text/x-python",
   "name": "python",
   "nbconvert_exporter": "python",
   "pygments_lexer": "ipython3",
   "version": "3.12.2"
  }
 },
 "nbformat": 4,
 "nbformat_minor": 5
}
